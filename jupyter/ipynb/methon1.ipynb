{
 "cells": [
  {
   "cell_type": "code",
   "execution_count": 1,
   "metadata": {},
   "outputs": [
    {
     "data": {
      "text/plain": [
       "conf = org.apache.spark.SparkConf@40ae9458\n",
       "sc = org.apache.spark.SparkContext@7c46e554\n",
       "spark = org.apache.spark.sql.SparkSession@61934d30\n"
      ]
     },
     "metadata": {},
     "output_type": "display_data"
    },
    {
     "data": {
      "text/plain": [
       "org.apache.spark.sql.SparkSession@61934d30"
      ]
     },
     "execution_count": 1,
     "metadata": {},
     "output_type": "execute_result"
    }
   ],
   "source": [
    "import org.apache.spark.{SparkConf, SparkContext}\n",
    "import org.apache.spark.sql.SparkSession\n",
    "import org.apache.spark.sql.functions.lit\n",
    "\n",
    "\n",
    "val conf=new SparkConf()\n",
    "      .setMaster(\"local\")//启动本地化计算\n",
    "      .setAppName(\"testRdd\")//设置本程序名称\n",
    "val sc=new SparkContext(conf)\n",
    "val spark = SparkSession.builder().appName(\"csv_app\").getOrCreate()"
   ]
  },
  {
   "cell_type": "code",
   "execution_count": 2,
   "metadata": {},
   "outputs": [
    {
     "data": {
      "text/plain": [
       "csv1 = [StartDate: string, EndDate: string ... 3244 more fields]\n",
       "csv2 = [Attribute: string, Electrolux: string ... 51 more fields]\n"
      ]
     },
     "metadata": {},
     "output_type": "display_data"
    },
    {
     "data": {
      "text/plain": [
       "[Attribute: string, Electrolux: string ... 51 more fields]"
      ]
     },
     "execution_count": 2,
     "metadata": {},
     "output_type": "execute_result"
    }
   ],
   "source": [
    "val csv1=spark.read.option(\"header\", \"true\").option(\"multiLine\", true).csv(\"../data/input.csv\")//读取本地文件\n",
    "val csv2=spark.read.option(\"header\", \"true\").option(\"multiLine\", true).csv(\"../data/attribute_mapping.csv\")"
   ]
  },
  {
   "cell_type": "code",
   "execution_count": 3,
   "metadata": {},
   "outputs": [
    {
     "data": {
      "text/plain": [
       "brand = Array(Electrolux, AEG, Westinghouse, Zanussi, Simpson, Haier, Asko, Smeg, LG, Samsung, Fisher & Paykel, Bosch, Miele, Hisense, Kelvinator, Panasonic, Sharp, Toshiba, Hitachi, Daikin, Elba, Aqua, Teka, Midea, Beko, Rinnai, Fotile, Mitsubishi, Modena, Tec...\n"
      ]
     },
     "metadata": {},
     "output_type": "display_data"
    },
    {
     "data": {
      "text/plain": [
       "col2: Array[String] = Array(Attribute, Electrolux, AEG, Westinghouse, Zanussi, Simpson, Haier, Asko, Smeg, LG, Samsung, Fisher & Paykel, Bosch, Miele, Hisense, Kelvinator, Panasonic, Sharp, Toshiba, Hitachi, Daikin, Elba, Aqua, Teka, Midea, Beko, Rinnai, Fotile, Mitsubishi, Modena, Tecnogas, Ariston, Polytron, Sanken, White-Westinghouse, Fujidenzo, La Germania, Whirlpool, Defy, Siemens, KIC, Olympic Electric, Fresh, Kiriazi, White Point, Arthur Martin, Franke, Bauknecht, Sauter, Tornado, Gibson, Maytag, \"Indesit\r",
       "\")\n"
      ]
     },
     "metadata": {},
     "output_type": "display_data"
    },
    {
     "data": {
      "text/plain": [
       "Array(Electrolux, AEG, Westinghouse, Zanussi, Simpson, Haier, Asko, Smeg, LG, Samsung, Fisher & Paykel, Bosch, Miele, Hisense, Kelvinator, Panasonic, Sharp, Toshiba, Hitachi, Daikin, Elba, Aqua, Teka, Midea, Beko, Rinnai, Fotile, Mitsubishi, Modena, Tec..."
      ]
     },
     "execution_count": 3,
     "metadata": {},
     "output_type": "execute_result"
    }
   ],
   "source": [
    "val col2 = csv2.columns\n",
    "val brand = col2.filter(!_.contains(\"Attribute\"))\n",
    "//col2.slice(col1.indexWhere(_==\"xx\"), col1.length)"
   ]
  },
  {
   "cell_type": "code",
   "execution_count": 4,
   "metadata": {},
   "outputs": [
    {
     "data": {
      "text/plain": [
       "csv2DF = [Attribute: string, Question: string ... 1 more field]\n"
      ]
     },
     "metadata": {},
     "output_type": "display_data"
    },
    {
     "data": {
      "text/plain": [
       "[Attribute: string, Question: string ... 1 more field]"
      ]
     },
     "execution_count": 4,
     "metadata": {},
     "output_type": "execute_result"
    }
   ],
   "source": [
    "var csv2DF = csv2.select(\"Attribute\",brand(0)).toDF(\"Attribute\", \"Question\").withColumn(\"Brand\", lit(brand(0)))\n",
    "for(i<-(1 until brand.length)){\n",
    "    csv2DF = csv2DF.union(\n",
    "    csv2.select(\"Attribute\",brand(i))\n",
    "        .toDF(\"Attribute\", \"Question\")\n",
    "        .withColumn(\"Brand\", lit(brand(i)))\n",
    "    )\n",
    "}"
   ]
  },
  {
   "cell_type": "code",
   "execution_count": 5,
   "metadata": {},
   "outputs": [
    {
     "name": "stdout",
     "output_type": "stream",
     "text": [
      "+--------------------+-------------------+----------+\n",
      "|           Attribute|           Question|     Brand|\n",
      "+--------------------+-------------------+----------+\n",
      "|is a leader in su...|  sustainability_57|Electrolux|\n",
      "|offers relevant s...|human-centricity_57|Electrolux|\n",
      "|          is stylish|           style_57|Electrolux|\n",
      "|          is premium|     premiumness_57|Electrolux|\n",
      "|is a leader in in...|      innovation_57|Electrolux|\n",
      "|is a brand with s...|          status_57|Electrolux|\n",
      "|has products with...|       modernity_57|Electrolux|\n",
      "|offers environmen...|eco-friendliness_57|Electrolux|\n",
      "|offers durable an...|     reliability_57|Electrolux|\n",
      "|offers high-quali...|         quality_57|Electrolux|\n",
      "|      is easy to use|   intuitiveness_57|Electrolux|\n",
      "|offers good value...| value-for-money_57|Electrolux|\n",
      "|   is family focused|    family-focus_57|Electrolux|\n",
      "|simplifies my hom...|          simple_57|Electrolux|\n",
      "|   is a clever brand|          clever_57|Electrolux|\n",
      "|  is a brand I trust|           trust_57|Electrolux|\n",
      "|   is a brand I love|            love_57|Electrolux|\n",
      "|is a leader in su...|  sustainability_58|       AEG|\n",
      "|offers relevant s...|human-centricity_58|       AEG|\n",
      "|          is stylish|           style_58|       AEG|\n",
      "+--------------------+-------------------+----------+\n",
      "only showing top 20 rows\n",
      "\n"
     ]
    }
   ],
   "source": [
    "csv2DF.show"
   ]
  },
  {
   "cell_type": "code",
   "execution_count": 6,
   "metadata": {},
   "outputs": [
    {
     "data": {
      "text/plain": [
       "Ques = Array(sustainability_57, human-centricity_57, style_57, premiumness_57, innovation_57, status_57, modernity_57, eco-friendliness_57, reliability_57, quality_57, intuitiveness_57, value-for-money_57, family-focus_57, simple_57, clever_57, trust_57, love_57, sustainability_58, human-centricity_58, style_58, premiumness_58, innovation_58, status_58, modernity_58, eco-friendliness_58, reliability_58, quality_58, intuitiveness_58, value-for-money_58, family-focus_58, simple_58, clever_58, trust_58, love_58, sustainability_59, human-centricity_59, style_59, premiumness_59, innovation_59, status_59, modernity_59, eco-friendliness_59, reliability_59, quality_59, intuitiveness_59, value-for-money_59, family-focus_59, simple_59, clever_59, trust_59, love_59, sustainability_9...\n"
      ]
     },
     "metadata": {},
     "output_type": "display_data"
    },
    {
     "data": {
      "text/plain": [
       "Array(sustainability_57, human-centricity_57, style_57, premiumness_57, innovation_57, status_57, modernity_57, eco-friendliness_57, reliability_57, quality_57, intuitiveness_57, value-for-money_57, family-focus_57, simple_57, clever_57, trust_57, love_57, sustainability_58, human-centricity_58, style_58, premiumness_58, innovation_58, status_58, modernity_58, eco-friendliness_58, reliability_58, quality_58, intuitiveness_58, value-for-money_58, family-focus_58, simple_58, clever_58, trust_58, love_58, sustainability_59, human-centricity_59, style_59, premiumness_59, innovation_59, status_59, modernity_59, eco-friendliness_59, reliability_59, quality_59, intuitiveness_59, value-for-money_59, family-focus_59, simple_59, clever_59, trust_59, love_59, sustainability_9..."
      ]
     },
     "execution_count": 6,
     "metadata": {},
     "output_type": "execute_result"
    }
   ],
   "source": [
    "var Ques = csv2DF.select(\"Question\").collect.map(_(0).toString)"
   ]
  },
  {
   "cell_type": "code",
   "execution_count": 27,
   "metadata": {},
   "outputs": [
    {
     "name": "stdout",
     "output_type": "stream",
     "text": [
      "36\n",
      "[R_UtgzI4lZXXLGqHv]\n",
      "[R_cNrfiwreJeUrhFn]\n",
      "[R_2rUQdWiFZ38QV3b]\n",
      "[R_Qg3koqPcsgqnP33]\n",
      "[R_PUkCf3jAfZGhY5j]\n",
      "[R_2t4C1FAXs404fge]\n",
      "[R_3iEGg24EkwvhfHB]\n",
      "[R_2xWP4kBEWMCvfJx]\n",
      "[R_2VClPrgQ8Jwaq0C]\n",
      "[R_OC44pRUl5hTJlLj]\n",
      "[R_30u9CoDvlISkD2Q]\n",
      "[R_0PVkdthAPsEP2y5]\n",
      "[R_2QzfrASu6vb5Iz2]\n",
      "[R_UzllmChKz9HRYMV]\n",
      "[R_3mdRzjPriPtzghP]\n",
      "[R_steQgOirp99ZsrL]\n",
      "[R_3Gdm6rP25MpNrNk]\n",
      "[R_25LaUgTffH62iUz]\n",
      "[R_323hfdqnSjHjGdF]\n",
      "[R_2AZJLeMeFinxFiC]\n",
      "[R_2vkuixk9j4n0mUa]\n",
      "[R_3KNufhgWs7iCefn]\n",
      "[R_1Iot7yBwaE4Namk]\n",
      "[R_3j6AMtAoFm5kyfa]\n",
      "[R_8cdYRySZyPS5AVX]\n",
      "[R_1QobjwsfXvZb5J6]\n",
      "[R_3Eu4RwKONg13zTJ]\n",
      "[R_OfMiWDIMRRrhEkN]\n",
      "[R_338gruodsNJWwtb]\n",
      "[R_2tlYQFdCcuzEfT1]\n",
      "[R_ZaWpIbSwyQEQstr]\n",
      "[R_2SpF3G4Q6pSglNb]\n",
      "[R_3qVfA2cdTGSisDu]\n",
      "[R_2S7DPlF0kjomGcX]\n",
      "[R_3lDkf6gHd9hV3Mi]\n",
      "[R_D6piLv2VcEHQnap]\n"
     ]
    }
   ],
   "source": [
    "println(csv1.select(\"ResponseId\").collect.length)\n",
    "csv1.select(\"ResponseId\").collect.foreach(println)"
   ]
  },
  {
   "cell_type": "code",
   "execution_count": 8,
   "metadata": {},
   "outputs": [
    {
     "name": "stdout",
     "output_type": "stream",
     "text": [
      "100\n"
     ]
    },
    {
     "data": {
      "text/plain": [
       "Ques = [Ljava.lang.String;@5c484e9c\n"
      ]
     },
     "metadata": {},
     "output_type": "display_data"
    },
    {
     "data": {
      "text/plain": [
       "[Ljava.lang.String;@5c484e9c"
      ]
     },
     "execution_count": 8,
     "metadata": {},
     "output_type": "execute_result"
    }
   ],
   "source": [
    "println(Ques.length)\n",
    "Ques = Ques.slice(0,20)"
   ]
  },
  {
   "cell_type": "code",
   "execution_count": 16,
   "metadata": {},
   "outputs": [
    {
     "name": "stdout",
     "output_type": "stream",
     "text": [
      "100\n"
     ]
    }
   ],
   "source": [
    "println(littleQues.length)"
   ]
  },
  {
   "cell_type": "code",
   "execution_count": 23,
   "metadata": {},
   "outputs": [
    {
     "name": "stdout",
     "output_type": "stream",
     "text": [
      "[R_UtgzI4lZXXLGqHv]\n",
      "[R_cNrfiwreJeUrhFn]\n",
      "[R_2rUQdWiFZ38QV3b]\n",
      "[R_Qg3koqPcsgqnP33]\n",
      "[R_PUkCf3jAfZGhY5j]\n",
      "[R_2t4C1FAXs404fge]\n",
      "[R_3iEGg24EkwvhfHB]\n",
      "[R_2xWP4kBEWMCvfJx]\n",
      "[R_2VClPrgQ8Jwaq0C]\n",
      "[R_OC44pRUl5hTJlLj]\n",
      "[R_30u9CoDvlISkD2Q]\n",
      "[R_0PVkdthAPsEP2y5]\n",
      "[R_2QzfrASu6vb5Iz2]\n",
      "[R_UzllmChKz9HRYMV]\n",
      "[R_3mdRzjPriPtzghP]\n",
      "[R_steQgOirp99ZsrL]\n",
      "[R_3Gdm6rP25MpNrNk]\n",
      "[R_25LaUgTffH62iUz]\n",
      "[R_323hfdqnSjHjGdF]\n",
      "[R_2AZJLeMeFinxFiC]\n",
      "[R_2vkuixk9j4n0mUa]\n",
      "[R_3KNufhgWs7iCefn]\n",
      "[R_1Iot7yBwaE4Namk]\n",
      "[R_3j6AMtAoFm5kyfa]\n",
      "[R_8cdYRySZyPS5AVX]\n",
      "[R_1QobjwsfXvZb5J6]\n",
      "[R_3Eu4RwKONg13zTJ]\n",
      "[null]\n",
      "[8271]\n",
      "[R_OfMiWDIMRRrhEkN]\n",
      "[R_338gruodsNJWwtb]\n",
      "[R_2tlYQFdCcuzEfT1]\n",
      "[R_ZaWpIbSwyQEQstr]\n",
      "[null]\n",
      "[1]\n",
      "[null]\n",
      "[8283]\n",
      "[R_2SpF3G4Q6pSglNb]\n",
      "[R_3qVfA2cdTGSisDu]\n",
      "[R_2S7DPlF0kjomGcX]\n",
      "[R_3lDkf6gHd9hV3Mi]\n",
      "[R_D6piLv2VcEHQnap]\n"
     ]
    },
    {
     "data": {
      "text/plain": [
       "littlecsv1DF = [ResponseId: string, EndDate: string ... 2 more fields]\n"
      ]
     },
     "metadata": {},
     "output_type": "display_data"
    },
    {
     "data": {
      "text/plain": [
       "[ResponseId: string, EndDate: string ... 2 more fields]"
      ]
     },
     "execution_count": 23,
     "metadata": {},
     "output_type": "execute_result"
    }
   ],
   "source": [
    "var littlecsv1DF = csv1.select(\"ResponseId\",\"EndDate\",littleQues(0)).toDF(\"ResponseId\",\"EndDate\", \"Value\").withColumn(\"Question\", lit(littleQues(0)))\n",
    "littlecsv1DF.select(\"ResponseId\").collect.foreach(println)"
   ]
  },
  {
   "cell_type": "code",
   "execution_count": 9,
   "metadata": {},
   "outputs": [
    {
     "data": {
      "text/plain": [
       "csv1DF = [ResponseId: string, EndDate: string ... 2 more fields]\n"
      ]
     },
     "metadata": {},
     "output_type": "display_data"
    },
    {
     "data": {
      "text/plain": [
       "[ResponseId: string, EndDate: string ... 2 more fields]"
      ]
     },
     "execution_count": 9,
     "metadata": {},
     "output_type": "execute_result"
    }
   ],
   "source": [
    "var csv1DF = csv1.select(\"ResponseId\",\"EndDate\",Ques(0)).toDF(\"ResponseId\",\"EndDate\", \"Value\").withColumn(\"Question\", lit(Ques(0)))\n",
    "for(i<-(1 until Ques.length)){\n",
    "    csv1DF = csv1DF.union(\n",
    "    csv1.select(\"ResponseId\",\"EndDate\",Ques(i))\n",
    "        .toDF(\"ResponseId\",\"EndDate\", \"Value\")\n",
    "        .withColumn(\"Question\", lit(Ques(i)))\n",
    "    )\n",
    "}"
   ]
  },
  {
   "cell_type": "code",
   "execution_count": 10,
   "metadata": {
    "scrolled": true
   },
   "outputs": [
    {
     "data": {
      "text/plain": [
       "720"
      ]
     },
     "execution_count": 10,
     "metadata": {},
     "output_type": "execute_result"
    }
   ],
   "source": [
    "csv1DF.select(\"Question\").collect.length"
   ]
  },
  {
   "cell_type": "code",
   "execution_count": 11,
   "metadata": {
    "scrolled": true
   },
   "outputs": [
    {
     "data": {
      "text/plain": [
       "finalDF = [ResponseId: string, EndDate: string ... 3 more fields]\n"
      ]
     },
     "metadata": {},
     "output_type": "display_data"
    },
    {
     "data": {
      "text/plain": [
       "[ResponseId: string, EndDate: string ... 3 more fields]"
      ]
     },
     "execution_count": 11,
     "metadata": {},
     "output_type": "execute_result"
    }
   ],
   "source": [
    "var finalDF = csv1DF.join(csv2DF, Seq(\"Question\"), \"left_outer\").drop(\"Question\").select(\"ResponseId\", \"EndDate\", \"Brand\", \"Attribute\", \"Value\")"
   ]
  },
  {
   "cell_type": "code",
   "execution_count": 11,
   "metadata": {
    "scrolled": true
   },
   "outputs": [
    {
     "data": {
      "text/plain": [
       "lfinalDF = [ResponseId: string, EndDate: string ... 3 more fields]\n"
      ]
     },
     "metadata": {},
     "output_type": "display_data"
    },
    {
     "data": {
      "text/plain": [
       "[ResponseId: string, EndDate: string ... 3 more fields]"
      ]
     },
     "execution_count": 11,
     "metadata": {},
     "output_type": "execute_result"
    }
   ],
   "source": [
    "var lfinalDF = littlefinalDF.drop(\"Question\")"
   ]
  },
  {
   "cell_type": "code",
   "execution_count": 47,
   "metadata": {
    "scrolled": true
   },
   "outputs": [
    {
     "name": "stdout",
     "output_type": "stream",
     "text": [
      "+-----------------+-------------------+-----+--------------------+----------+\n",
      "|       ResponseId|            EndDate|Value|           Attribute|     Brand|\n",
      "+-----------------+-------------------+-----+--------------------+----------+\n",
      "|R_UtgzI4lZXXLGqHv|2020-06-06 04:31:23| null|is a leader in su...|Electrolux|\n",
      "|R_cNrfiwreJeUrhFn|2020-06-06 05:18:18| null|is a leader in su...|Electrolux|\n",
      "|R_2rUQdWiFZ38QV3b|2020-06-06 07:15:38| null|is a leader in su...|Electrolux|\n",
      "|R_Qg3koqPcsgqnP33|2020-06-06 09:09:05| null|is a leader in su...|Electrolux|\n",
      "|R_PUkCf3jAfZGhY5j|2020-06-06 10:21:31| null|is a leader in su...|Electrolux|\n",
      "|R_2t4C1FAXs404fge|2020-06-06 14:22:36| null|is a leader in su...|Electrolux|\n",
      "|R_3iEGg24EkwvhfHB|2020-06-06 23:33:38| null|is a leader in su...|Electrolux|\n",
      "|R_2xWP4kBEWMCvfJx|2020-06-07 13:20:01| null|is a leader in su...|Electrolux|\n",
      "|R_2VClPrgQ8Jwaq0C|2020-06-07 19:59:27| null|is a leader in su...|Electrolux|\n",
      "|R_OC44pRUl5hTJlLj|2020-06-08 02:16:36| null|is a leader in su...|Electrolux|\n",
      "|R_30u9CoDvlISkD2Q|2020-06-08 02:18:19| null|is a leader in su...|Electrolux|\n",
      "|R_0PVkdthAPsEP2y5|2020-06-08 02:23:51|    1|is a leader in su...|Electrolux|\n",
      "|R_2QzfrASu6vb5Iz2|2020-06-08 02:36:06|    1|is a leader in su...|Electrolux|\n",
      "|R_UzllmChKz9HRYMV|2020-06-08 02:42:52| null|is a leader in su...|Electrolux|\n",
      "|R_3mdRzjPriPtzghP|2020-06-08 02:51:03| null|is a leader in su...|Electrolux|\n",
      "|R_steQgOirp99ZsrL|2020-06-08 03:02:04| null|is a leader in su...|Electrolux|\n",
      "|R_3Gdm6rP25MpNrNk|2020-06-08 03:06:26| null|is a leader in su...|Electrolux|\n",
      "|R_25LaUgTffH62iUz|2020-06-08 03:32:10| null|is a leader in su...|Electrolux|\n",
      "|R_323hfdqnSjHjGdF|2020-06-08 03:38:01| null|is a leader in su...|Electrolux|\n",
      "|R_2AZJLeMeFinxFiC|2020-06-08 03:48:16| null|is a leader in su...|Electrolux|\n",
      "+-----------------+-------------------+-----+--------------------+----------+\n",
      "only showing top 20 rows\n",
      "\n"
     ]
    }
   ],
   "source": [
    "lfinalDF.show"
   ]
  },
  {
   "cell_type": "code",
   "execution_count": 12,
   "metadata": {
    "scrolled": false
   },
   "outputs": [
    {
     "data": {
      "text/plain": [
       "finalDF = [ResponseId: string, EndDate: string ... 3 more fields]\n"
      ]
     },
     "metadata": {},
     "output_type": "display_data"
    },
    {
     "data": {
      "text/plain": [
       "[ResponseId: string, EndDate: string ... 3 more fields]"
      ]
     },
     "execution_count": 12,
     "metadata": {},
     "output_type": "execute_result"
    }
   ],
   "source": [
    "var finalDF = lfinalDF.select(\"ResponseId\", \"EndDate\", \"Brand\", \"Attribute\", \"Value\")"
   ]
  },
  {
   "cell_type": "code",
   "execution_count": 12,
   "metadata": {
    "scrolled": true
   },
   "outputs": [
    {
     "name": "stdout",
     "output_type": "stream",
     "text": [
      "+-----------------+-------------------+----------+--------------------+-----+\n",
      "|       ResponseId|            EndDate|     Brand|           Attribute|Value|\n",
      "+-----------------+-------------------+----------+--------------------+-----+\n",
      "|R_UtgzI4lZXXLGqHv|2020-06-06 04:31:23|Electrolux|is a leader in su...| null|\n",
      "|R_cNrfiwreJeUrhFn|2020-06-06 05:18:18|Electrolux|is a leader in su...| null|\n",
      "|R_2rUQdWiFZ38QV3b|2020-06-06 07:15:38|Electrolux|is a leader in su...| null|\n",
      "|R_Qg3koqPcsgqnP33|2020-06-06 09:09:05|Electrolux|is a leader in su...| null|\n",
      "|R_PUkCf3jAfZGhY5j|2020-06-06 10:21:31|Electrolux|is a leader in su...| null|\n",
      "|R_2t4C1FAXs404fge|2020-06-06 14:22:36|Electrolux|is a leader in su...| null|\n",
      "|R_3iEGg24EkwvhfHB|2020-06-06 23:33:38|Electrolux|is a leader in su...| null|\n",
      "|R_2xWP4kBEWMCvfJx|2020-06-07 13:20:01|Electrolux|is a leader in su...| null|\n",
      "|R_2VClPrgQ8Jwaq0C|2020-06-07 19:59:27|Electrolux|is a leader in su...| null|\n",
      "|R_OC44pRUl5hTJlLj|2020-06-08 02:16:36|Electrolux|is a leader in su...| null|\n",
      "|R_30u9CoDvlISkD2Q|2020-06-08 02:18:19|Electrolux|is a leader in su...| null|\n",
      "|R_0PVkdthAPsEP2y5|2020-06-08 02:23:51|Electrolux|is a leader in su...|    1|\n",
      "|R_2QzfrASu6vb5Iz2|2020-06-08 02:36:06|Electrolux|is a leader in su...|    1|\n",
      "|R_UzllmChKz9HRYMV|2020-06-08 02:42:52|Electrolux|is a leader in su...| null|\n",
      "|R_3mdRzjPriPtzghP|2020-06-08 02:51:03|Electrolux|is a leader in su...| null|\n",
      "|R_steQgOirp99ZsrL|2020-06-08 03:02:04|Electrolux|is a leader in su...| null|\n",
      "|R_3Gdm6rP25MpNrNk|2020-06-08 03:06:26|Electrolux|is a leader in su...| null|\n",
      "|R_25LaUgTffH62iUz|2020-06-08 03:32:10|Electrolux|is a leader in su...| null|\n",
      "|R_323hfdqnSjHjGdF|2020-06-08 03:38:01|Electrolux|is a leader in su...| null|\n",
      "|R_2AZJLeMeFinxFiC|2020-06-08 03:48:16|Electrolux|is a leader in su...| null|\n",
      "+-----------------+-------------------+----------+--------------------+-----+\n",
      "only showing top 20 rows\n",
      "\n"
     ]
    }
   ],
   "source": [
    "finalDF.show"
   ]
  },
  {
   "cell_type": "code",
   "execution_count": 13,
   "metadata": {},
   "outputs": [],
   "source": [
    "finalDF.write.option(\"header\", \"true\").csv(\"final\")"
   ]
  },
  {
   "cell_type": "code",
   "execution_count": 5,
   "metadata": {
    "scrolled": true
   },
   "outputs": [
    {
     "data": {
      "text/plain": [
       "colNames = Array(id, name, age)\n",
       "schema = StructType(StructField(id,StringType,true), StructField(name,StringType,true), StructField(age,StringType,true))\n"
      ]
     },
     "metadata": {},
     "output_type": "display_data"
    },
    {
     "data": {
      "text/plain": [
       "StructType(StructField(id,StringType,true), StructField(name,StringType,true), StructField(age,StringType,true))"
      ]
     },
     "execution_count": 5,
     "metadata": {},
     "output_type": "execute_result"
    }
   ],
   "source": [
    "import org.apache.spark.sql.types._\n",
    "\n",
    "val colNames = Array(\"id\", \"name\", \"age\")    //为了简单起见，字段类型都为String\n",
    "val schema = StructType(colNames.map(fieldName => StructField(fieldName, StringType, true)))    //主要是利用了spark.sparkContext.emptyRDD"
   ]
  },
  {
   "cell_type": "code",
   "execution_count": 4,
   "metadata": {},
   "outputs": [
    {
     "ename": "Compile Error",
     "evalue": "<console>:26: error: package schema is not a value\n       println(schema)\n               ^\n",
     "output_type": "error",
     "traceback": []
    }
   ],
   "source": [
    "println(schema)"
   ]
  },
  {
   "cell_type": "code",
   "execution_count": null,
   "metadata": {},
   "outputs": [],
   "source": []
  }
 ],
 "metadata": {
  "kernelspec": {
   "display_name": "Apache Toree - Scala",
   "language": "scala",
   "name": "apache_toree_scala"
  },
  "language_info": {
   "codemirror_mode": "text/x-scala",
   "file_extension": ".scala",
   "mimetype": "text/x-scala",
   "name": "scala",
   "pygments_lexer": "scala",
   "version": "2.11.12"
  }
 },
 "nbformat": 4,
 "nbformat_minor": 4
}
