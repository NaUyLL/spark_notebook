{
 "cells": [
  {
   "cell_type": "code",
   "execution_count": 1,
   "id": "81f705d6",
   "metadata": {},
   "outputs": [
    {
     "data": {
      "text/plain": [
       "conf = org.apache.spark.SparkConf@54c0a1d4\n",
       "sc = org.apache.spark.SparkContext@10684ae9\n",
       "spark = org.apache.spark.sql.SparkSession@2b531518\n"
      ]
     },
     "metadata": {},
     "output_type": "display_data"
    },
    {
     "data": {
      "text/plain": [
       "org.apache.spark.sql.SparkSession@2b531518"
      ]
     },
     "execution_count": 1,
     "metadata": {},
     "output_type": "execute_result"
    }
   ],
   "source": [
    "import org.apache.spark.{SparkConf, SparkContext}\n",
    "import org.apache.spark.sql.SparkSession\n",
    "import org.apache.spark.sql.functions.lit\n",
    "\n",
    "\n",
    "\n",
    "val conf=new SparkConf()\n",
    "      .setMaster(\"local\")//启动本地化计算\n",
    "      .setAppName(\"testRdd\")//设置本程序名称\n",
    "val sc=new SparkContext(conf)\n",
    "val spark = SparkSession.builder().appName(\"csv_app\").getOrCreate()"
   ]
  },
  {
   "cell_type": "code",
   "execution_count": 2,
   "id": "a7fc2d34",
   "metadata": {},
   "outputs": [
    {
     "data": {
      "text/plain": [
       "csv1 = [StartDate: string, EndDate: string ... 3244 more fields]\n",
       "csv2 = [Attribute: string, Electrolux: string ... 51 more fields]\n"
      ]
     },
     "metadata": {},
     "output_type": "display_data"
    },
    {
     "data": {
      "text/plain": [
       "[Attribute: string, Electrolux: string ... 51 more fields]"
      ]
     },
     "execution_count": 2,
     "metadata": {},
     "output_type": "execute_result"
    }
   ],
   "source": [
    "val csv1=spark.read.option(\"header\", \"true\").option(\"multiLine\", true).csv(\"../data/input.csv\")//读取本地文件\n",
    "val csv2=spark.read.option(\"header\", \"true\").option(\"multiLine\", true).csv(\"../data/attribute_mapping.csv\")"
   ]
  },
  {
   "cell_type": "code",
   "execution_count": 6,
   "id": "2ecdd154",
   "metadata": {},
   "outputs": [
    {
     "data": {
      "text/plain": [
       "brand = Array(Electrolux, AEG, Westinghouse, Zanussi, Simpson, Haier, Asko, Smeg, LG, Samsung, Fisher & Paykel, Bosch, Miele, Hisense, Kelvinator, Panasonic, Sharp, Toshiba, Hitachi, Daikin, Elba, Aqua, Teka, Midea, Beko, Rinnai, Fotile, Mitsubishi, Modena, Tec...\n"
      ]
     },
     "metadata": {},
     "output_type": "display_data"
    },
    {
     "data": {
      "text/plain": [
       "col2: Array[String] = Array(Attribute, Electrolux, AEG, Westinghouse, Zanussi, Simpson, Haier, Asko, Smeg, LG, Samsung, Fisher & Paykel, Bosch, Miele, Hisense, Kelvinator, Panasonic, Sharp, Toshiba, Hitachi, Daikin, Elba, Aqua, Teka, Midea, Beko, Rinnai, Fotile, Mitsubishi, Modena, Tecnogas, Ariston, Polytron, Sanken, White-Westinghouse, Fujidenzo, La Germania, Whirlpool, Defy, Siemens, KIC, Olympic Electric, Fresh, Kiriazi, White Point, Arthur Martin, Franke, Bauknecht, Sauter, Tornado, Gibson, Maytag, \"Indesit\r",
       "\")\n"
      ]
     },
     "metadata": {},
     "output_type": "display_data"
    },
    {
     "data": {
      "text/plain": [
       "Array(Electrolux, AEG, Westinghouse, Zanussi, Simpson, Haier, Asko, Smeg, LG, Samsung, Fisher & Paykel, Bosch, Miele, Hisense, Kelvinator, Panasonic, Sharp, Toshiba, Hitachi, Daikin, Elba, Aqua, Teka, Midea, Beko, Rinnai, Fotile, Mitsubishi, Modena, Tec..."
      ]
     },
     "execution_count": 6,
     "metadata": {},
     "output_type": "execute_result"
    }
   ],
   "source": [
    "val col2 = csv2.columns\n",
    "val brand = col2.slice(1, col2.length)\n",
    "//col2.filter(!_.contains(\"Attribute\"))\n",
    "//col2.slice(col1.indexWhere(_==\"xx\"), col1.length)"
   ]
  },
  {
   "cell_type": "code",
   "execution_count": 10,
   "id": "8ac165a2",
   "metadata": {},
   "outputs": [
    {
     "data": {
      "text/plain": [
       "schema = StructType(StructField(Attribute,StringType,true), StructField(Question,StringType,true), StructField(Brand,StringType,true))\n"
      ]
     },
     "metadata": {},
     "output_type": "display_data"
    },
    {
     "data": {
      "text/plain": [
       "StructType(StructField(Attribute,StringType,true), StructField(Question,StringType,true), StructField(Brand,StringType,true))"
      ]
     },
     "execution_count": 10,
     "metadata": {},
     "output_type": "execute_result"
    }
   ],
   "source": [
    "import org.apache.spark.sql.types._ //StructType, StructField\n",
    "val schema = StructType(\n",
    "  Seq(\n",
    "    StructField(\"Attribute\", StringType, true),\n",
    "    StructField(\"Question\", StringType, true),\n",
    "    StructField(\"Brand\", StringType, true)))"
   ]
  },
  {
   "cell_type": "code",
   "execution_count": 63,
   "id": "b4f610f6",
   "metadata": {},
   "outputs": [
    {
     "name": "stdout",
     "output_type": "stream",
     "text": [
      "+---------+--------+-----+\n",
      "|Attribute|Question|Brand|\n",
      "+---------+--------+-----+\n",
      "+---------+--------+-----+\n",
      "\n"
     ]
    },
    {
     "data": {
      "text/plain": [
       "emptydf = [Attribute: string, Question: string ... 1 more field]\n"
      ]
     },
     "metadata": {},
     "output_type": "display_data"
    },
    {
     "data": {
      "text/plain": [
       "[Attribute: string, Question: string ... 1 more field]"
      ]
     },
     "execution_count": 63,
     "metadata": {},
     "output_type": "execute_result"
    }
   ],
   "source": [
    "import org.apache.spark.sql.Row\n",
    "var emptydf = spark.createDataFrame(sc.emptyRDD[Row], schema)\n",
    "emptydf.show"
   ]
  },
  {
   "cell_type": "code",
   "execution_count": 92,
   "id": "489e12ff",
   "metadata": {},
   "outputs": [
    {
     "name": "stdout",
     "output_type": "stream",
     "text": [
      "[Lorg.apache.spark.sql.Column;@2f7d301c"
     ]
    },
    {
     "data": {
      "text/plain": [
       "kk: Array[org.apache.spark.sql.Column] = Array(Electrolux, AEG, Westinghouse, Zanussi, Simpson, Haier, Asko, Smeg, LG, Samsung, Fisher & Paykel, Bosch, Miele, Hisense, Kelvinator, Panasonic, Sharp, Toshiba, Hitachi, Daikin, Elba, Aqua, Teka, Midea, Beko, Rinnai, Fotile, Mitsubishi, Modena, Tecnogas, Ariston, Polytron, Sanken, White-Westinghouse, Fujidenzo, La Germania, Whirlpool, Defy, Siemens, KIC, Olympic Electric, Fresh, Kiriazi, White Point, Arthur Martin, Franke, Bauknecht, Sauter, Tornado, Gibson, Maytag, Indesit\r",
       ")\n"
      ]
     },
     "metadata": {},
     "output_type": "display_data"
    }
   ],
   "source": [
    "import org.apache.spark.sql.functions._\n",
    "var kk = brand.map(name => col(name))\n",
    "print(kk)"
   ]
  },
  {
   "cell_type": "markdown",
   "id": "21f7109f",
   "metadata": {},
   "source": [
    "#  scala中利用“: _*” 可以实现函数的非定长参数 "
   ]
  },
  {
   "cell_type": "code",
   "execution_count": 125,
   "id": "99ff8639",
   "metadata": {},
   "outputs": [
    {
     "name": "stdout",
     "output_type": "stream",
     "text": [
      "+-------------------+-------------------+-------------------+\n",
      "|         Electrolux|                AEG|       Westinghouse|\n",
      "+-------------------+-------------------+-------------------+\n",
      "|  sustainability_57|  sustainability_58|  sustainability_59|\n",
      "|human-centricity_57|human-centricity_58|human-centricity_59|\n",
      "|           style_57|           style_58|           style_59|\n",
      "|     premiumness_57|     premiumness_58|     premiumness_59|\n",
      "|      innovation_57|      innovation_58|      innovation_59|\n",
      "|          status_57|          status_58|          status_59|\n",
      "|       modernity_57|       modernity_58|       modernity_59|\n",
      "|eco-friendliness_57|eco-friendliness_58|eco-friendliness_59|\n",
      "|     reliability_57|     reliability_58|     reliability_59|\n",
      "|         quality_57|         quality_58|         quality_59|\n",
      "|   intuitiveness_57|   intuitiveness_58|   intuitiveness_59|\n",
      "| value-for-money_57| value-for-money_58| value-for-money_59|\n",
      "|    family-focus_57|    family-focus_58|    family-focus_59|\n",
      "|          simple_57|          simple_58|          simple_59|\n",
      "|          clever_57|          clever_58|          clever_59|\n",
      "|           trust_57|           trust_58|           trust_59|\n",
      "|            love_57|            love_58|            love_59|\n",
      "+-------------------+-------------------+-------------------+\n",
      "\n",
      "+-------------------+-------------------+-------------------+\n",
      "|         Electrolux|                AEG|       Westinghouse|\n",
      "+-------------------+-------------------+-------------------+\n",
      "|  sustainability_57|  sustainability_58|  sustainability_59|\n",
      "|human-centricity_57|human-centricity_58|human-centricity_59|\n",
      "|           style_57|           style_58|           style_59|\n",
      "|     premiumness_57|     premiumness_58|     premiumness_59|\n",
      "|      innovation_57|      innovation_58|      innovation_59|\n",
      "|          status_57|          status_58|          status_59|\n",
      "|       modernity_57|       modernity_58|       modernity_59|\n",
      "|eco-friendliness_57|eco-friendliness_58|eco-friendliness_59|\n",
      "|     reliability_57|     reliability_58|     reliability_59|\n",
      "|         quality_57|         quality_58|         quality_59|\n",
      "|   intuitiveness_57|   intuitiveness_58|   intuitiveness_59|\n",
      "| value-for-money_57| value-for-money_58| value-for-money_59|\n",
      "|    family-focus_57|    family-focus_58|    family-focus_59|\n",
      "|          simple_57|          simple_58|          simple_59|\n",
      "|          clever_57|          clever_58|          clever_59|\n",
      "|           trust_57|           trust_58|           trust_59|\n",
      "|            love_57|            love_58|            love_59|\n",
      "+-------------------+-------------------+-------------------+\n",
      "\n"
     ]
    },
    {
     "data": {
      "text/plain": [
       "df = [Electrolux: string, AEG: string ... 1 more field]\n"
      ]
     },
     "metadata": {},
     "output_type": "display_data"
    },
    {
     "data": {
      "text/plain": [
       "[Electrolux: string, AEG: string ... 1 more field]"
      ]
     },
     "execution_count": 125,
     "metadata": {},
     "output_type": "execute_result"
    }
   ],
   "source": [
    "var df = csv2.select(brand.slice(0,3).map(name => col(name)): _*)\n",
    "df.show"
   ]
  },
  {
   "cell_type": "code",
   "execution_count": 126,
   "id": "bb3bd01a",
   "metadata": {},
   "outputs": [
    {
     "name": "stdout",
     "output_type": "stream",
     "text": [
      "+--------------------+--------------------+\n",
      "|           Attribute|            Question|\n",
      "+--------------------+--------------------+\n",
      "|is a leader in su...|sustainability_57...|\n",
      "|offers relevant s...|human-centricity_...|\n",
      "|          is stylish|style_57,style_58...|\n",
      "|          is premium|premiumness_57,pr...|\n",
      "|is a leader in in...|innovation_57,inn...|\n",
      "|is a brand with s...|status_57,status_...|\n",
      "|has products with...|modernity_57,mode...|\n",
      "|offers environmen...|eco-friendliness_...|\n",
      "|offers durable an...|reliability_57,re...|\n",
      "|offers high-quali...|quality_57,qualit...|\n",
      "|      is easy to use|intuitiveness_57,...|\n",
      "|offers good value...|value-for-money_5...|\n",
      "|   is family focused|family-focus_57,f...|\n",
      "|simplifies my hom...|simple_57,simple_...|\n",
      "|   is a clever brand|clever_57,clever_...|\n",
      "|  is a brand I trust|trust_57,trust_58...|\n",
      "|   is a brand I love|love_57,love_58,l...|\n",
      "+--------------------+--------------------+\n",
      "\n"
     ]
    },
    {
     "data": {
      "text/plain": [
       "df = [Attribute: string, Question: string]\n"
      ]
     },
     "metadata": {},
     "output_type": "display_data"
    },
    {
     "data": {
      "text/plain": [
       "[Attribute: string, Question: string]"
      ]
     },
     "execution_count": 126,
     "metadata": {},
     "output_type": "execute_result"
    }
   ],
   "source": [
    "import org.apache.spark.sql.functions._\n",
    "//var df = csv2.select(\"Attribute\").withColumn(\"Question\", concat_ws(\",\", brand.map(name => col(name)): _*))\n",
    "var df = csv2.select(col(\"Attribute\"), concat_ws(\",\", brand.map(name => col(name)): _*).as(\"Question\"))\n",
    "df.show"
   ]
  },
  {
   "cell_type": "code",
   "execution_count": 117,
   "id": "53b34023",
   "metadata": {},
   "outputs": [
    {
     "name": "stdout",
     "output_type": "stream",
     "text": [
      "+--------------------+-----------------+\n",
      "|           Attribute|              col|\n",
      "+--------------------+-----------------+\n",
      "|is a leader in su...|sustainability_57|\n",
      "|is a leader in su...|sustainability_58|\n",
      "|is a leader in su...|sustainability_59|\n",
      "|is a leader in su...|sustainability_95|\n",
      "|is a leader in su...|sustainability_68|\n",
      "|is a leader in su...|sustainability_60|\n",
      "|is a leader in su...|sustainability_61|\n",
      "|is a leader in su...|sustainability_62|\n",
      "|is a leader in su...|sustainability_63|\n",
      "|is a leader in su...|sustainability_64|\n",
      "|is a leader in su...|sustainability_65|\n",
      "|is a leader in su...|sustainability_66|\n",
      "|is a leader in su...|sustainability_67|\n",
      "|is a leader in su...|sustainability_70|\n",
      "|is a leader in su...|sustainability_71|\n",
      "|is a leader in su...|sustainability_72|\n",
      "|is a leader in su...|sustainability_73|\n",
      "|is a leader in su...|sustainability_74|\n",
      "|is a leader in su...|sustainability_75|\n",
      "|is a leader in su...|sustainability_76|\n",
      "+--------------------+-----------------+\n",
      "only showing top 20 rows\n",
      "\n"
     ]
    }
   ],
   "source": [
    "df.select(col(\"Attribute\"), explode(split(col(\"Question\"),\",\"))).withColumn(\"brand\", csv2.$\"Question\")"
   ]
  },
  {
   "cell_type": "code",
   "execution_count": 61,
   "id": "9708f723",
   "metadata": {},
   "outputs": [
    {
     "data": {
      "text/plain": [
       "csv2DF = [Attribute: string, Question: string ... 1 more field]\n"
      ]
     },
     "metadata": {},
     "output_type": "display_data"
    },
    {
     "data": {
      "text/plain": [
       "[Attribute: string, Question: string ... 1 more field]"
      ]
     },
     "execution_count": 61,
     "metadata": {},
     "output_type": "execute_result"
    }
   ],
   "source": [
    "var csv2DF = emptydf\n",
    "for(i<-(0 until brand.length)){\n",
    "    csv2DF = csv2DF.union(\n",
    "    csv2.select(\"Attribute\",brand(i))\n",
    "        .toDF(\"Attribute\", \"Question\")\n",
    "        .withColumn(\"Brand\", lit(brand(i)))\n",
    "    )\n",
    "}"
   ]
  },
  {
   "cell_type": "code",
   "execution_count": null,
   "id": "21fcca34",
   "metadata": {},
   "outputs": [],
   "source": []
  }
 ],
 "metadata": {
  "kernelspec": {
   "display_name": "Apache Toree - Scala",
   "language": "scala",
   "name": "apache_toree_scala"
  },
  "language_info": {
   "codemirror_mode": "text/x-scala",
   "file_extension": ".scala",
   "mimetype": "text/x-scala",
   "name": "scala",
   "pygments_lexer": "scala",
   "version": "2.11.12"
  }
 },
 "nbformat": 4,
 "nbformat_minor": 5
}
