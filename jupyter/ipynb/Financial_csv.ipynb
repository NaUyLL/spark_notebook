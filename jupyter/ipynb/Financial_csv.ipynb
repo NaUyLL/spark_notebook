{
 "cells": [
  {
   "cell_type": "code",
   "execution_count": 1,
   "id": "cbed5c45",
   "metadata": {},
   "outputs": [
    {
     "data": {
      "text/plain": [
       "spark = org.apache.spark.sql.SparkSession@63b82589\n"
      ]
     },
     "metadata": {},
     "output_type": "display_data"
    },
    {
     "data": {
      "text/plain": [
       "org.apache.spark.sql.SparkSession@63b82589"
      ]
     },
     "execution_count": 1,
     "metadata": {},
     "output_type": "execute_result"
    }
   ],
   "source": [
    "import org.apache.spark.sql.SparkSession\n",
    "import org.apache.spark.sql.types._\n",
    "import org.apache.spark.sql.functions._\n",
    "import org.apache.spark.sql.SaveMode\n",
    "\n",
    "val spark = SparkSession.builder().master(\"spark://spark:7077\").appName(\"Financial_csv\").getOrCreate()"
   ]
  },
  {
   "cell_type": "code",
   "execution_count": 3,
   "id": "48306a05",
   "metadata": {},
   "outputs": [
    {
     "data": {
      "text/plain": [
       "lastException = null\n"
      ]
     },
     "metadata": {},
     "output_type": "display_data"
    },
    {
     "ename": "java.lang.InterruptedException",
     "evalue": null,
     "output_type": "error",
     "traceback": [
      "java.lang.InterruptedException",
      "  at java.util.concurrent.locks.AbstractQueuedSynchronizer.doAcquireSharedInterruptibly(AbstractQueuedSynchronizer.java:998)",
      "  at java.util.concurrent.locks.AbstractQueuedSynchronizer.acquireSharedInterruptibly(AbstractQueuedSynchronizer.java:1304)",
      "  at scala.concurrent.impl.Promise$DefaultPromise.tryAwait(Promise.scala:206)",
      "  at scala.concurrent.impl.Promise$DefaultPromise.ready(Promise.scala:222)",
      "  at scala.concurrent.impl.Promise$DefaultPromise.ready(Promise.scala:157)",
      "  at org.apache.spark.util.ThreadUtils$.awaitReady(ThreadUtils.scala:243)",
      "  at org.apache.spark.scheduler.DAGScheduler.runJob(DAGScheduler.scala:729)",
      "  at org.apache.spark.SparkContext.runJob(SparkContext.scala:2061)",
      "  at org.apache.spark.SparkContext.runJob(SparkContext.scala:2082)",
      "  at org.apache.spark.SparkContext.runJob(SparkContext.scala:2101)",
      "  at org.apache.spark.rdd.RDD$$anonfun$take$1.apply(RDD.scala:1409)",
      "  at org.apache.spark.rdd.RDDOperationScope$.withScope(RDDOperationScope.scala:151)",
      "  at org.apache.spark.rdd.RDDOperationScope$.withScope(RDDOperationScope.scala:112)",
      "  at org.apache.spark.rdd.RDD.withScope(RDD.scala:385)",
      "  at org.apache.spark.rdd.RDD.take(RDD.scala:1382)",
      "  at org.apache.spark.sql.execution.datasources.csv.MultiLineCSVDataSource$.infer(CSVDataSource.scala:336)",
      "  at org.apache.spark.sql.execution.datasources.csv.CSVDataSource.inferSchema(CSVDataSource.scala:68)",
      "  at org.apache.spark.sql.execution.datasources.csv.CSVFileFormat.inferSchema(CSVFileFormat.scala:63)",
      "  at org.apache.spark.sql.execution.datasources.DataSource$$anonfun$6.apply(DataSource.scala:180)",
      "  at org.apache.spark.sql.execution.datasources.DataSource$$anonfun$6.apply(DataSource.scala:180)",
      "  at scala.Option.orElse(Option.scala:289)",
      "  at org.apache.spark.sql.execution.datasources.DataSource.getOrInferFileFormatSchema(DataSource.scala:179)",
      "  at org.apache.spark.sql.execution.datasources.DataSource.resolveRelation(DataSource.scala:373)",
      "  at org.apache.spark.sql.DataFrameReader.loadV1Source(DataFrameReader.scala:223)",
      "  at org.apache.spark.sql.DataFrameReader.load(DataFrameReader.scala:211)",
      "  at org.apache.spark.sql.DataFrameReader.csv(DataFrameReader.scala:619)",
      "  at org.apache.spark.sql.DataFrameReader.csv(DataFrameReader.scala:468)",
      "  ... 50 elided"
     ]
    }
   ],
   "source": [
    "val f_csv=spark.read.option(\"header\", \"true\").option(\"multiLine\", true).csv(\"../data/Financial_Sample.csv\")//读取文件"
   ]
  },
  {
   "cell_type": "code",
   "execution_count": 3,
   "id": "5e8f2396",
   "metadata": {},
   "outputs": [
    {
     "data": {
      "text/plain": [
       "fcol: Array[String] = Array(Segment, Country, \" Product \", \" Discount Band \", Units Sold(销量), \" Manufacturing Price（制造价格） \", \" Sale Price（销售价格） \", \" Gross Sales \", \" Discounts \", \"  Sales（销售额） \", \" COGS（总成本） \", \" Profit（利润） \", Date, Month Number, \" Month Name \", \"Year\r",
       "\")\n"
      ]
     },
     "metadata": {},
     "output_type": "display_data"
    }
   ],
   "source": [
    "val fcol = f_csv.columns"
   ]
  },
  {
   "cell_type": "code",
   "execution_count": 5,
   "id": "70773012",
   "metadata": {},
   "outputs": [
    {
     "data": {
      "text/plain": [
       "c2f = UserDefinedFunction(<function1>,StringType,Some(List(StringType)))\n"
      ]
     },
     "metadata": {},
     "output_type": "display_data"
    },
    {
     "data": {
      "text/plain": [
       "col2Float: (S: String)String\n"
      ]
     },
     "metadata": {},
     "output_type": "display_data"
    },
    {
     "data": {
      "text/plain": [
       "UserDefinedFunction(<function1>,StringType,Some(List(StringType)))"
      ]
     },
     "execution_count": 5,
     "metadata": {},
     "output_type": "execute_result"
    }
   ],
   "source": [
    "def col2Float(S: String) = {\n",
    "    var S_deal = S.trim()\n",
    "    if (S_deal.charAt(0).equals('$')){\n",
    "    S_deal = S_deal.substring(1, S_deal.length)\n",
    "    }\n",
    "    S_deal = S_deal.trim()\n",
    "    if (S_deal.indexOf(\"(\") != -1){\n",
    "        S_deal = S_deal.substring(S_deal.indexOf(\"(\")+1, S_deal.indexOf(\")\"))\n",
    "    }\n",
    "    if (S_deal.charAt(0).equals('-')){\n",
    "    \"0.0\"\n",
    "    }\n",
    "    else{\n",
    "        S_deal.replace(\",\",\"\").toFloat.formatted(\"%.2f\")\n",
    "    }\n",
    "    \n",
    "}\n",
    "var c2f = udf(col2Float _)"
   ]
  },
  {
   "cell_type": "code",
   "execution_count": 68,
   "id": "1de4bcd8",
   "metadata": {},
   "outputs": [
    {
     "data": {
      "text/plain": [
       "453375.00"
      ]
     },
     "execution_count": 68,
     "metadata": {},
     "output_type": "execute_result"
    }
   ],
   "source": [
    "col2Float(\"$(453,375.00)\")"
   ]
  },
  {
   "cell_type": "code",
   "execution_count": 4,
   "id": "100083d1",
   "metadata": {},
   "outputs": [
    {
     "data": {
      "text/plain": [
       "columnName_deal: (S: String)String\n"
      ]
     },
     "metadata": {},
     "output_type": "display_data"
    }
   ],
   "source": [
    "def columnName_deal(S: String)={\n",
    "    var S_deal = S.trim\n",
    "    var a = S_deal.indexOf(\"(\")\n",
    "    var b = S_deal.indexOf(\"（\")\n",
    "    if (a != -1){\n",
    "        if (b<a && b != -1)\n",
    "        {\n",
    "            S_deal = S_deal.substring(0,b).trim\n",
    "        }\n",
    "        else{\n",
    "            S_deal = S_deal.substring(0,a).trim\n",
    "        }  \n",
    "    }\n",
    "    else{\n",
    "        if (b != -1)\n",
    "        {\n",
    "            S_deal = S_deal.substring(0,b).trim\n",
    "        }\n",
    "        else{\n",
    "            S_deal = S_deal.trim\n",
    "        }\n",
    "    }\n",
    "    S_deal.replace(\" \", \"_\")\n",
    "}"
   ]
  },
  {
   "cell_type": "code",
   "execution_count": 6,
   "id": "1d3c9e9f",
   "metadata": {},
   "outputs": [
    {
     "data": {
      "text/plain": [
       "str_trim = UserDefinedFunction(<function1>,StringType,Some(List(StringType)))\n"
      ]
     },
     "metadata": {},
     "output_type": "display_data"
    },
    {
     "data": {
      "text/plain": [
       "UserDefinedFunction(<function1>,StringType,Some(List(StringType)))"
      ]
     },
     "execution_count": 6,
     "metadata": {},
     "output_type": "execute_result"
    }
   ],
   "source": [
    "val str_trim = udf((str: String) => str.trim())"
   ]
  },
  {
   "cell_type": "code",
   "execution_count": 7,
   "id": "43d9546d",
   "metadata": {},
   "outputs": [
    {
     "data": {
      "text/plain": [
       "dd = UserDefinedFunction(<function1>,StringType,Some(List(StringType)))\n"
      ]
     },
     "metadata": {},
     "output_type": "display_data"
    },
    {
     "data": {
      "text/plain": [
       "date_deal: (S: String)String\n"
      ]
     },
     "metadata": {},
     "output_type": "display_data"
    },
    {
     "data": {
      "text/plain": [
       "UserDefinedFunction(<function1>,StringType,Some(List(StringType)))"
      ]
     },
     "execution_count": 7,
     "metadata": {},
     "output_type": "execute_result"
    }
   ],
   "source": [
    "def date_deal(S: String)={\n",
    "    S.trim.replace(\"/\",\"-\")\n",
    "}\n",
    "var dd = udf(date_deal _)"
   ]
  },
  {
   "cell_type": "code",
   "execution_count": 8,
   "id": "4e893da5",
   "metadata": {
    "scrolled": true
   },
   "outputs": [
    {
     "data": {
      "text/plain": [
       "newf_csv = [Segment: string, Country: string ... 14 more fields]\n"
      ]
     },
     "metadata": {},
     "output_type": "display_data"
    },
    {
     "data": {
      "text/plain": [
       "[Segment: string, Country: string ... 14 more fields]"
      ]
     },
     "execution_count": 8,
     "metadata": {},
     "output_type": "execute_result"
    }
   ],
   "source": [
    "var newf_csv = f_csv.toDF(fcol.map(columnName_deal(_)):_*)"
   ]
  },
  {
   "cell_type": "code",
   "execution_count": 9,
   "id": "cef9d4ff",
   "metadata": {},
   "outputs": [
    {
     "data": {
      "text/plain": [
       "newf_csv = [Segment: string, Country: string ... 14 more fields]\n"
      ]
     },
     "metadata": {},
     "output_type": "display_data"
    },
    {
     "data": {
      "text/plain": [
       "[Segment: string, Country: string ... 14 more fields]"
      ]
     },
     "execution_count": 9,
     "metadata": {},
     "output_type": "execute_result"
    }
   ],
   "source": [
    "newf_csv = newf_csv.withColumn(\"Date\", dd(col(\"Date\")))\n",
    "                   .withColumn(\"Month_Number\", str_trim(col(\"Month_Number\")))\n",
    "                   .withColumn(\"Year\", str_trim(col(\"Year\")))"
   ]
  },
  {
   "cell_type": "code",
   "execution_count": 10,
   "id": "4ec209d5",
   "metadata": {},
   "outputs": [
    {
     "data": {
      "text/plain": [
       "newfcol = Array(Segment, Country, Product, Discount_Band, Units_Sold, Manufacturing_Price, Sale_Price, Gross_Sales, Discounts, Sales, COGS, Profit, Date, Month_Number, Month_Name, Year)\n"
      ]
     },
     "metadata": {},
     "output_type": "display_data"
    },
    {
     "data": {
      "text/plain": [
       "Array(Segment, Country, Product, Discount_Band, Units_Sold, Manufacturing_Price, Sale_Price, Gross_Sales, Discounts, Sales, COGS, Profit, Date, Month_Number, Month_Name, Year)"
      ]
     },
     "execution_count": 10,
     "metadata": {},
     "output_type": "execute_result"
    }
   ],
   "source": [
    "val newfcol = newf_csv.columns"
   ]
  },
  {
   "cell_type": "code",
   "execution_count": 11,
   "id": "c8e28d03",
   "metadata": {},
   "outputs": [
    {
     "data": {
      "text/plain": [
       "Array((), (), (), (), (), (), (), (), (), (), (), (), (), (), (), ())"
      ]
     },
     "execution_count": 11,
     "metadata": {},
     "output_type": "execute_result"
    }
   ],
   "source": [
    "newfcol.map(column =>{\n",
    "    newf_csv = newf_csv.withColumn(column, str_trim(col(column)))\n",
    "})"
   ]
  },
  {
   "cell_type": "code",
   "execution_count": 12,
   "id": "bf2a59c2",
   "metadata": {},
   "outputs": [
    {
     "data": {
      "text/plain": [
       "float_col = Array(Manufacturing_Price, Sale_Price, Gross_Sales, Discounts, Sales, COGS, Profit)\n"
      ]
     },
     "metadata": {},
     "output_type": "display_data"
    },
    {
     "data": {
      "text/plain": [
       "Array(Manufacturing_Price, Sale_Price, Gross_Sales, Discounts, Sales, COGS, Profit)"
      ]
     },
     "execution_count": 12,
     "metadata": {},
     "output_type": "execute_result"
    }
   ],
   "source": [
    "val float_col = newfcol.slice(5,12)"
   ]
  },
  {
   "cell_type": "code",
   "execution_count": 28,
   "id": "a13d9d08",
   "metadata": {},
   "outputs": [
    {
     "data": {
      "text/plain": [
       "Manufacturing_Price,Sale_Price,Gross_Sales,Discounts,Sales,COGS,Profit"
      ]
     },
     "execution_count": 28,
     "metadata": {},
     "output_type": "execute_result"
    }
   ],
   "source": [
    "float_col.toSeq.foldLeft(\"\")(_ + \",\" + _).substring(1)"
   ]
  },
  {
   "cell_type": "code",
   "execution_count": null,
   "id": "b31b74b6",
   "metadata": {},
   "outputs": [],
   "source": [
    "float_col.map(column =>{\n",
    "    newf_csv = newf_csv.withColumn(column, c2f(col(column)))\n",
    "})"
   ]
  },
  {
   "cell_type": "code",
   "execution_count": 16,
   "id": "365af6ec",
   "metadata": {},
   "outputs": [
    {
     "data": {
      "text/plain": [
       "Array([$32,370.00], [$26,420.00], [$32,670.00], [$13,320.00], [$37,050.00], [$529,550.00], [$13,815.00], [$30,216.00], [$37,980.00], [$18,540.00], [$37,050.00], [$333,187.50], [$287,400.00], [$15,022.00], [$43,125.00], [$9,225.00], [$5,840.00], [$14,610.00], [$30,216.00], [$352,100.00], [$4,404.00], [$6,181.00], [$8,235.00], [$236,400.00], [$37,080.00], [$8,001.00], [$603,750.00], [$10,944.00], [$32,280.00], [$36,340.00], [$529,550.00], [$10,451.00], [$225,500.00], [$25,932.00], [$352,100.00], [$18,540.00], [$352,625.00], [$43,125.00], [$600,300.00], [$34,056.00], [$32,670.00], [$13,320.00], [$534,450.00], [$645,300.00], [$36,340.00], [$962,500.00], [$23,436.00], [$527,437.50], [$37,980.00], [$11,802.00], [$25,692.00], [$8,001.00], [$9,225.00], [..."
      ]
     },
     "execution_count": 16,
     "metadata": {},
     "output_type": "execute_result"
    }
   ],
   "source": [
    "newf_csv.select(\"Gross_Sales\").collect()"
   ]
  },
  {
   "cell_type": "code",
   "execution_count": 13,
   "id": "6b6f569d",
   "metadata": {},
   "outputs": [],
   "source": [
    "newf_csv.write.mode(SaveMode.Append).partitionBy(\"Year\", \"Month_Number\", \"Date\").saveAsTable(\"financial\")\n",
    "//.format(\"hive\")"
   ]
  },
  {
   "cell_type": "code",
   "execution_count": 14,
   "id": "b5c24956",
   "metadata": {},
   "outputs": [
    {
     "data": {
      "text/plain": [
       "pre_fcsv = [Country: string, Product: string ... 6 more fields]\n"
      ]
     },
     "metadata": {},
     "output_type": "display_data"
    },
    {
     "data": {
      "text/plain": [
       "[Country: string, Product: string ... 6 more fields]"
      ]
     },
     "execution_count": 14,
     "metadata": {},
     "output_type": "execute_result"
    }
   ],
   "source": [
    "var pre_fcsv = spark.sql(\"select Country, Product, Units_Sold, Sales, COGS, Profit, Year, Month_Number as Month from financial \")"
   ]
  },
  {
   "cell_type": "code",
   "execution_count": 15,
   "id": "8df01dd2",
   "metadata": {
    "scrolled": false
   },
   "outputs": [
    {
     "name": "stdout",
     "output_type": "stream",
     "text": [
      "+--------------------+---------+----------+-----------+-----------+-----------+----+-----+\n",
      "|             Country|  Product|Units_Sold|      Sales|       COGS|     Profit|Year|Month|\n",
      "+--------------------+---------+----------+-----------+-----------+-----------+----+-----+\n",
      "|United States of ...|    Paseo|      1143|  $8,001.00|  $5,715.00|  $2,286.00|2014|   10|\n",
      "|United States of ...| Amarilla|      1143|  $8,001.00|  $5,715.00|  $2,286.00|2014|   10|\n",
      "|              Mexico|Carretera|      1397|$484,060.50|$363,220.00|$120,840.50|2014|   10|\n",
      "|              Mexico|      VTT|      1397|$484,060.50|$363,220.00|$120,840.50|2014|   10|\n",
      "|              Canada|Carretera|      1295| $15,229.20|  $3,885.00| $11,344.20|2014|   10|\n",
      "|United States of ...|  Montana|      1566| $30,693.60| $15,660.00| $15,033.60|2014|   10|\n",
      "|              Canada|    Paseo|      1295| $15,229.20|  $3,885.00| $11,344.20|2014|   10|\n",
      "|United States of ...|     Velo|      1566| $30,693.60| $15,660.00| $15,033.60|2014|   10|\n",
      "|             Germany|     Velo|      2877|$986,811.00|$748,020.00|$238,791.00|2014|   10|\n",
      "|             Germany|      VTT|      2877|$986,811.00|$748,020.00|$238,791.00|2014|   10|\n",
      "|              Canada|    Paseo|      2009|$243,591.25|$241,080.00|  $2,511.25|2014|   10|\n",
      "|              Canada|     Velo|      2009|$243,591.25|$241,080.00|  $2,511.25|2014|   10|\n",
      "|              Mexico|  Montana|      2031| $29,246.40| $20,310.00|  $8,936.40|2014|   10|\n",
      "|              Mexico|    Paseo|      2031| $29,246.40| $20,310.00|  $8,936.40|2014|   10|\n",
      "|             Germany|Carretera|      2021|$582,048.00|$505,250.00| $76,798.00|2014|   10|\n",
      "|             Germany|  Montana|      2021|$582,048.00|$505,250.00| $76,798.00|2014|   10|\n",
      "|              France|     Velo|      2177|$731,472.00|$566,020.00|$165,452.00|2014|   10|\n",
      "|              France|      VTT|      2177|$731,472.00|$566,020.00|$165,452.00|2014|   10|\n",
      "|              Mexico|    Paseo|      2689| $17,881.85| $13,445.00|  $4,436.85|2014|   10|\n",
      "|              Mexico|      VTT|      2689| $17,881.85| $13,445.00|  $4,436.85|2014|   10|\n",
      "+--------------------+---------+----------+-----------+-----------+-----------+----+-----+\n",
      "only showing top 20 rows\n",
      "\n"
     ]
    }
   ],
   "source": [
    "pre_fcsv.show"
   ]
  },
  {
   "cell_type": "code",
   "execution_count": 61,
   "id": "bfdaecc4",
   "metadata": {},
   "outputs": [
    {
     "name": "stdout",
     "output_type": "stream",
     "text": [
      "+-----------+\n",
      "|      Sales|\n",
      "+-----------+\n",
      "|  $8,001.00|\n",
      "|  $8,001.00|\n",
      "|$484,060.50|\n",
      "|$484,060.50|\n",
      "| $15,229.20|\n",
      "| $30,693.60|\n",
      "| $15,229.20|\n",
      "| $30,693.60|\n",
      "|$986,811.00|\n",
      "|$986,811.00|\n",
      "|$243,591.25|\n",
      "|$243,591.25|\n",
      "| $29,246.40|\n",
      "| $29,246.40|\n",
      "|$582,048.00|\n",
      "|$582,048.00|\n",
      "|$731,472.00|\n",
      "|$731,472.00|\n",
      "| $17,881.85|\n",
      "| $17,881.85|\n",
      "+-----------+\n",
      "only showing top 20 rows\n",
      "\n"
     ]
    }
   ],
   "source": [
    "pre_fcsv.select(\"Sales\").show"
   ]
  },
  {
   "cell_type": "code",
   "execution_count": 16,
   "id": "6ebdd0c5",
   "metadata": {
    "scrolled": true
   },
   "outputs": [
    {
     "data": {
      "text/plain": [
       "pre_fcsv = [Country: string, Product: string ... 6 more fields]\n"
      ]
     },
     "metadata": {},
     "output_type": "display_data"
    },
    {
     "data": {
      "text/plain": [
       "[Country: string, Product: string ... 6 more fields]"
      ]
     },
     "execution_count": 16,
     "metadata": {},
     "output_type": "execute_result"
    }
   ],
   "source": [
    "pre_fcsv = pre_fcsv.withColumn(\"Sales\", c2f(col(\"Sales\")))"
   ]
  },
  {
   "cell_type": "code",
   "execution_count": 17,
   "id": "8a48ee67",
   "metadata": {},
   "outputs": [
    {
     "name": "stdout",
     "output_type": "stream",
     "text": [
      "+--------------------+---------+----------+---------+---------+-----------+----+-----+\n",
      "|             Country|  Product|Units_Sold|    Sales|     COGS|     Profit|Year|Month|\n",
      "+--------------------+---------+----------+---------+---------+-----------+----+-----+\n",
      "|United States of ...|    Paseo|      1143|  8001.00|  5715.00|  $2,286.00|2014|   10|\n",
      "|United States of ...| Amarilla|      1143|  8001.00|  5715.00|  $2,286.00|2014|   10|\n",
      "|              Mexico|Carretera|      1397|484060.50|363220.00|$120,840.50|2014|   10|\n",
      "|              Mexico|      VTT|      1397|484060.50|363220.00|$120,840.50|2014|   10|\n",
      "|              Canada|Carretera|      1295| 15229.20|  3885.00| $11,344.20|2014|   10|\n",
      "|United States of ...|  Montana|      1566| 30693.60| 15660.00| $15,033.60|2014|   10|\n",
      "|              Canada|    Paseo|      1295| 15229.20|  3885.00| $11,344.20|2014|   10|\n",
      "|United States of ...|     Velo|      1566| 30693.60| 15660.00| $15,033.60|2014|   10|\n",
      "|             Germany|     Velo|      2877|986811.00|748020.00|$238,791.00|2014|   10|\n",
      "|             Germany|      VTT|      2877|986811.00|748020.00|$238,791.00|2014|   10|\n",
      "|              Canada|    Paseo|      2009|243591.25|241080.00|  $2,511.25|2014|   10|\n",
      "|              Canada|     Velo|      2009|243591.25|241080.00|  $2,511.25|2014|   10|\n",
      "|              Mexico|  Montana|      2031| 29246.40| 20310.00|  $8,936.40|2014|   10|\n",
      "|              Mexico|    Paseo|      2031| 29246.40| 20310.00|  $8,936.40|2014|   10|\n",
      "|             Germany|Carretera|      2021|582048.00|505250.00| $76,798.00|2014|   10|\n",
      "|             Germany|  Montana|      2021|582048.00|505250.00| $76,798.00|2014|   10|\n",
      "|              France|     Velo|      2177|731472.00|566020.00|$165,452.00|2014|   10|\n",
      "|              France|      VTT|      2177|731472.00|566020.00|$165,452.00|2014|   10|\n",
      "|              Mexico|    Paseo|      2689| 17881.85| 13445.00|  $4,436.85|2014|   10|\n",
      "|              Mexico|      VTT|      2689| 17881.85| 13445.00|  $4,436.85|2014|   10|\n",
      "+--------------------+---------+----------+---------+---------+-----------+----+-----+\n",
      "only showing top 20 rows\n",
      "\n"
     ]
    },
    {
     "data": {
      "text/plain": [
       "pre_fcsv = [Country: string, Product: string ... 6 more fields]\n"
      ]
     },
     "metadata": {},
     "output_type": "display_data"
    },
    {
     "data": {
      "text/plain": [
       "[Country: string, Product: string ... 6 more fields]"
      ]
     },
     "execution_count": 17,
     "metadata": {},
     "output_type": "execute_result"
    }
   ],
   "source": [
    "pre_fcsv = pre_fcsv.withColumn(\"COGS\", c2f(col(\"COGS\")))\n",
    "pre_fcsv.show"
   ]
  },
  {
   "cell_type": "code",
   "execution_count": 18,
   "id": "2e034bd8",
   "metadata": {
    "scrolled": true
   },
   "outputs": [
    {
     "name": "stdout",
     "output_type": "stream",
     "text": [
      "+--------------------+---------+----------+---------+---------+---------+----+-----+\n",
      "|             Country|  Product|Units_Sold|    Sales|     COGS|   Profit|Year|Month|\n",
      "+--------------------+---------+----------+---------+---------+---------+----+-----+\n",
      "|United States of ...|    Paseo|      1143|  8001.00|  5715.00|  2286.00|2014|   10|\n",
      "|United States of ...| Amarilla|      1143|  8001.00|  5715.00|  2286.00|2014|   10|\n",
      "|              Mexico|Carretera|      1397|484060.50|363220.00|120840.50|2014|   10|\n",
      "|              Mexico|      VTT|      1397|484060.50|363220.00|120840.50|2014|   10|\n",
      "|              Canada|Carretera|      1295| 15229.20|  3885.00| 11344.20|2014|   10|\n",
      "|United States of ...|  Montana|      1566| 30693.60| 15660.00| 15033.60|2014|   10|\n",
      "|              Canada|    Paseo|      1295| 15229.20|  3885.00| 11344.20|2014|   10|\n",
      "|United States of ...|     Velo|      1566| 30693.60| 15660.00| 15033.60|2014|   10|\n",
      "|             Germany|     Velo|      2877|986811.00|748020.00|238791.00|2014|   10|\n",
      "|             Germany|      VTT|      2877|986811.00|748020.00|238791.00|2014|   10|\n",
      "|              Canada|    Paseo|      2009|243591.25|241080.00|  2511.25|2014|   10|\n",
      "|              Canada|     Velo|      2009|243591.25|241080.00|  2511.25|2014|   10|\n",
      "|              Mexico|  Montana|      2031| 29246.40| 20310.00|  8936.40|2014|   10|\n",
      "|              Mexico|    Paseo|      2031| 29246.40| 20310.00|  8936.40|2014|   10|\n",
      "|             Germany|Carretera|      2021|582048.00|505250.00| 76798.00|2014|   10|\n",
      "|             Germany|  Montana|      2021|582048.00|505250.00| 76798.00|2014|   10|\n",
      "|              France|     Velo|      2177|731472.00|566020.00|165452.00|2014|   10|\n",
      "|              France|      VTT|      2177|731472.00|566020.00|165452.00|2014|   10|\n",
      "|              Mexico|    Paseo|      2689| 17881.85| 13445.00|  4436.85|2014|   10|\n",
      "|              Mexico|      VTT|      2689| 17881.85| 13445.00|  4436.85|2014|   10|\n",
      "+--------------------+---------+----------+---------+---------+---------+----+-----+\n",
      "only showing top 20 rows\n",
      "\n"
     ]
    },
    {
     "data": {
      "text/plain": [
       "pre_fcsv = [Country: string, Product: string ... 6 more fields]\n"
      ]
     },
     "metadata": {},
     "output_type": "display_data"
    },
    {
     "data": {
      "text/plain": [
       "[Country: string, Product: string ... 6 more fields]"
      ]
     },
     "execution_count": 18,
     "metadata": {},
     "output_type": "execute_result"
    }
   ],
   "source": [
    "pre_fcsv = pre_fcsv.withColumn(\"Profit\", c2f(col(\"Profit\")))\n",
    "pre_fcsv.show"
   ]
  },
  {
   "cell_type": "code",
   "execution_count": 19,
   "id": "621f0ee8",
   "metadata": {},
   "outputs": [
    {
     "data": {
      "text/plain": [
       "pre_fcsv = [Country: string, Product: string ... 5 more fields]\n"
      ]
     },
     "metadata": {},
     "output_type": "display_data"
    },
    {
     "data": {
      "text/plain": [
       "[Country: string, Product: string ... 5 more fields]"
      ]
     },
     "execution_count": 19,
     "metadata": {},
     "output_type": "execute_result"
    }
   ],
   "source": [
    "pre_fcsv = pre_fcsv.withColumn(\"YM\", concat_ws(\"-\",col(\"Year\"), col(\"Month\"))).drop(\"Year\",\"Month\")"
   ]
  },
  {
   "cell_type": "code",
   "execution_count": 41,
   "id": "99ab95ea",
   "metadata": {
    "scrolled": true
   },
   "outputs": [
    {
     "data": {
      "text/plain": [
       "float_2f = UserDefinedFunction(<function1>,StringType,Some(List(StringType)))\n"
      ]
     },
     "metadata": {},
     "output_type": "display_data"
    },
    {
     "data": {
      "text/plain": [
       "lastException: Throwable = null\n"
      ]
     },
     "metadata": {},
     "output_type": "display_data"
    },
    {
     "data": {
      "text/plain": [
       "UserDefinedFunction(<function1>,StringType,Some(List(StringType)))"
      ]
     },
     "execution_count": 41,
     "metadata": {},
     "output_type": "execute_result"
    }
   ],
   "source": [
    "val float_2f = udf((str: String) => str.toFloat.formatted(\"%.2f\"))"
   ]
  },
  {
   "cell_type": "markdown",
   "id": "f5ed5b93",
   "metadata": {},
   "source": [
    "# 月度销售额top3国家"
   ]
  },
  {
   "cell_type": "code",
   "execution_count": 23,
   "id": "2bbdcff8",
   "metadata": {},
   "outputs": [
    {
     "name": "stdout",
     "output_type": "stream",
     "text": [
      "+--------------------+-------+------------------+\n",
      "|             Country|     YM|           Sales_c|\n",
      "+--------------------+-------+------------------+\n",
      "|              France| 2013-9| 821599.5900000001|\n",
      "|              Mexico| 2014-1|1655822.8499999999|\n",
      "|              France| 2014-3|        1559748.75|\n",
      "|              Mexico|2014-10|1855574.2999999998|\n",
      "|United States of ...|2013-12| 662615.5800000001|\n",
      "|              Mexico|2013-10|        1166052.56|\n",
      "|              France| 2014-4|         1332862.7|\n",
      "|              France| 2014-8|         779802.09|\n",
      "|             Germany|2013-12| 857856.8500000001|\n",
      "|              Mexico|2014-11|1123522.8399999999|\n",
      "|             Germany|2014-11|          617106.5|\n",
      "|              Canada| 2014-2|1482165.9799999997|\n",
      "|              Canada|2014-11|         952833.26|\n",
      "|              Mexico| 2014-9|1022441.2599999999|\n",
      "|United States of ...| 2014-4|        1616624.48|\n",
      "|             Germany| 2014-9|1255161.9000000001|\n",
      "|             Germany| 2014-3|479509.58999999997|\n",
      "|              Canada| 2014-4|        1593562.95|\n",
      "|              Canada| 2014-3|          811132.5|\n",
      "|             Germany| 2014-5|1317483.0000000002|\n",
      "+--------------------+-------+------------------+\n",
      "only showing top 20 rows\n",
      "\n"
     ]
    },
    {
     "data": {
      "text/plain": [
       "top3_sales_country = [Country: string, YM: string ... 1 more field]\n"
      ]
     },
     "metadata": {},
     "output_type": "display_data"
    },
    {
     "data": {
      "text/plain": [
       "[Country: string, YM: string ... 1 more field]"
      ]
     },
     "execution_count": 23,
     "metadata": {},
     "output_type": "execute_result"
    }
   ],
   "source": [
    "var top3_sales_country = \n",
    "pre_fcsv.groupBy(\"Country\", \"YM\")\n",
    "        .agg(sum(\"Sales\") as \"Sales_c\")\n",
    "top3_sales_country.show"
   ]
  },
  {
   "cell_type": "code",
   "execution_count": 25,
   "id": "30fa4885",
   "metadata": {},
   "outputs": [],
   "source": [
    "import org.apache.spark.sql.expressions.Window"
   ]
  },
  {
   "cell_type": "code",
   "execution_count": 31,
   "id": "87e0c370",
   "metadata": {
    "scrolled": true
   },
   "outputs": [
    {
     "data": {
      "text/plain": [
       "win1 = org.apache.spark.sql.expressions.WindowSpec@2b98ddc8\n"
      ]
     },
     "metadata": {},
     "output_type": "display_data"
    },
    {
     "data": {
      "text/plain": [
       "org.apache.spark.sql.expressions.WindowSpec@2b98ddc8"
      ]
     },
     "execution_count": 31,
     "metadata": {},
     "output_type": "execute_result"
    }
   ],
   "source": [
    "val win1 = Window.partitionBy(\"YM\").orderBy(- col(\"Sales_c\"))"
   ]
  },
  {
   "cell_type": "code",
   "execution_count": 42,
   "id": "54c51134",
   "metadata": {},
   "outputs": [
    {
     "name": "stdout",
     "output_type": "stream",
     "text": [
      "+--------------------+-------+----------+---+\n",
      "|             Country|     YM|   Sales_c|top|\n",
      "+--------------------+-------+----------+---+\n",
      "|              Mexico| 2014-1|1655822.88|  1|\n",
      "|              France| 2014-1|1544720.75|  2|\n",
      "|United States of ...| 2014-1|1346026.50|  3|\n",
      "|              Canada|2013-12|1587259.25|  1|\n",
      "|              Mexico|2013-12|1325568.13|  2|\n",
      "|              France|2013-12| 935141.31|  3|\n",
      "|United States of ...| 2014-7|2308798.25|  1|\n",
      "|              Canada| 2014-7|2109549.25|  2|\n",
      "|             Germany| 2014-7|1609549.75|  3|\n",
      "|             Germany| 2013-9|1095488.13|  1|\n",
      "|United States of ...| 2013-9| 981022.88|  2|\n",
      "|              Canada| 2013-9| 939195.19|  3|\n",
      "|United States of ...| 2014-4|1616624.50|  1|\n",
      "|              Canada| 2014-4|1593563.00|  2|\n",
      "|             Germany| 2014-4|1394813.50|  3|\n",
      "|              Mexico| 2014-2|1597700.38|  1|\n",
      "|              France| 2014-2|1537438.50|  2|\n",
      "|              Canada| 2014-2|1482166.00|  3|\n",
      "|              Canada| 2014-6|2725979.50|  1|\n",
      "|              Mexico| 2014-6|2210094.50|  2|\n",
      "+--------------------+-------+----------+---+\n",
      "only showing top 20 rows\n",
      "\n"
     ]
    },
    {
     "data": {
      "text/plain": [
       "c_sql1 = [Country: string, YM: string ... 2 more fields]\n"
      ]
     },
     "metadata": {},
     "output_type": "display_data"
    },
    {
     "data": {
      "text/plain": [
       "[Country: string, YM: string ... 2 more fields]"
      ]
     },
     "execution_count": 42,
     "metadata": {},
     "output_type": "execute_result"
    }
   ],
   "source": [
    "val c_sql1 = top3_sales_country.withColumn(\"top\", rank() over win1)\n",
    "                    .filter(\"top <= 3\").withColumn(\"Sales_c\", float_2f(col(\"Sales_c\")))\n",
    "c_sql1.show"
   ]
  },
  {
   "cell_type": "markdown",
   "id": "bcd52d1f",
   "metadata": {},
   "source": [
    "# 月度利润率top3国家"
   ]
  },
  {
   "cell_type": "code",
   "execution_count": 44,
   "id": "abced0cc",
   "metadata": {},
   "outputs": [
    {
     "data": {
      "text/plain": [
       "top3_profitraio_country = [Country: string, YM: string ... 3 more fields]\n"
      ]
     },
     "metadata": {},
     "output_type": "display_data"
    },
    {
     "data": {
      "text/plain": [
       "[Country: string, YM: string ... 3 more fields]"
      ]
     },
     "execution_count": 44,
     "metadata": {},
     "output_type": "execute_result"
    }
   ],
   "source": [
    "var top3_profitraio_country = \n",
    "pre_fcsv.groupBy(\"Country\", \"YM\")\n",
    "        .agg(sum(\"COGS\") as \"COGS_c\", sum(\"Profit\") as \"Profit_c\")\n",
    "        .withColumn(\"Profit_ratio\", col(\"Profit_c\")/col(\"COGS_c\"))"
   ]
  },
  {
   "cell_type": "code",
   "execution_count": 45,
   "id": "0c6c5eb0",
   "metadata": {},
   "outputs": [
    {
     "data": {
      "text/plain": [
       "win2 = org.apache.spark.sql.expressions.WindowSpec@4df400ca\n"
      ]
     },
     "metadata": {},
     "output_type": "display_data"
    },
    {
     "data": {
      "text/plain": [
       "org.apache.spark.sql.expressions.WindowSpec@4df400ca"
      ]
     },
     "execution_count": 45,
     "metadata": {},
     "output_type": "execute_result"
    }
   ],
   "source": [
    "val win2 = Window.partitionBy(\"YM\").orderBy(- col(\"Profit_ratio\"))"
   ]
  },
  {
   "cell_type": "code",
   "execution_count": 48,
   "id": "b45ad177",
   "metadata": {},
   "outputs": [
    {
     "name": "stdout",
     "output_type": "stream",
     "text": [
      "+--------------------+-------+-----------------+---+\n",
      "|             Country|     YM|UDF(Profit_ratio)|top|\n",
      "+--------------------+-------+-----------------+---+\n",
      "|              France| 2014-1|             0.20|  1|\n",
      "|              Mexico| 2014-1|             0.18|  2|\n",
      "|              Canada| 2014-1|             0.17|  3|\n",
      "|              Mexico|2013-12|             0.22|  1|\n",
      "|             Germany|2013-12|             0.20|  2|\n",
      "|              Canada|2013-12|             0.20|  3|\n",
      "|United States of ...| 2014-7|             0.16|  1|\n",
      "|              Canada| 2014-7|             0.14|  2|\n",
      "|              France| 2014-7|             0.13|  3|\n",
      "|              France| 2013-9|             0.31|  1|\n",
      "|              Mexico| 2013-9|             0.24|  2|\n",
      "|             Germany| 2013-9|             0.23|  3|\n",
      "|              Mexico| 2014-4|             0.20|  1|\n",
      "|United States of ...| 2014-4|             0.18|  2|\n",
      "|              Canada| 2014-4|             0.18|  3|\n",
      "|              France| 2014-2|             0.27|  1|\n",
      "|              Canada| 2014-2|             0.21|  2|\n",
      "|              Mexico| 2014-2|             0.18|  3|\n",
      "|              France| 2014-6|             0.26|  1|\n",
      "|             Germany| 2014-6|             0.23|  2|\n",
      "+--------------------+-------+-----------------+---+\n",
      "only showing top 20 rows\n",
      "\n"
     ]
    },
    {
     "data": {
      "text/plain": [
       "c_sql2 = [Country: string, YM: string ... 2 more fields]\n"
      ]
     },
     "metadata": {},
     "output_type": "display_data"
    },
    {
     "data": {
      "text/plain": [
       "[Country: string, YM: string ... 2 more fields]"
      ]
     },
     "execution_count": 48,
     "metadata": {},
     "output_type": "execute_result"
    }
   ],
   "source": [
    "val c_sql2 = top3_profitraio_country.withColumn(\"top\", rank() over win2)\n",
    "                    .filter(\"top <= 3\").select(col(\"Country\"), col(\"YM\"), float_2f(col(\"Profit_ratio\")), col(\"top\"))//.withColumn(\"Profit_ratio\", float_2f(col(\"Sales_c\")))\n",
    "c_sql2.show"
   ]
  },
  {
   "cell_type": "markdown",
   "id": "4614aac9",
   "metadata": {},
   "source": [
    "# 月度畅销top2商品"
   ]
  },
  {
   "cell_type": "code",
   "execution_count": 49,
   "id": "02e22756",
   "metadata": {
    "scrolled": true
   },
   "outputs": [
    {
     "data": {
      "text/plain": [
       "top2_sold_product = [Product: string, YM: string ... 1 more field]\n"
      ]
     },
     "metadata": {},
     "output_type": "display_data"
    },
    {
     "data": {
      "text/plain": [
       "[Product: string, YM: string ... 1 more field]"
      ]
     },
     "execution_count": 49,
     "metadata": {},
     "output_type": "execute_result"
    }
   ],
   "source": [
    "var top2_sold_product = \n",
    "pre_fcsv.groupBy(\"Product\", \"YM\")\n",
    "        .agg(sum(\"Units_Sold\") as \"Units_Sold_p\")"
   ]
  },
  {
   "cell_type": "code",
   "execution_count": 50,
   "id": "ef3cbe24",
   "metadata": {},
   "outputs": [
    {
     "data": {
      "text/plain": [
       "win3 = org.apache.spark.sql.expressions.WindowSpec@3c94fcb9\n"
      ]
     },
     "metadata": {},
     "output_type": "display_data"
    },
    {
     "data": {
      "text/plain": [
       "org.apache.spark.sql.expressions.WindowSpec@3c94fcb9"
      ]
     },
     "execution_count": 50,
     "metadata": {},
     "output_type": "execute_result"
    }
   ],
   "source": [
    "val win3 = Window.partitionBy(\"YM\").orderBy(- col(\"Units_Sold_p\"))"
   ]
  },
  {
   "cell_type": "code",
   "execution_count": 54,
   "id": "ad1d92d2",
   "metadata": {},
   "outputs": [
    {
     "name": "stdout",
     "output_type": "stream",
     "text": [
      "+---------+-------+------------+---+\n",
      "|  Product|     YM|Units_Sold_p|top|\n",
      "+---------+-------+------------+---+\n",
      "|    Paseo| 2014-1|     23598.0|  1|\n",
      "| Amarilla| 2014-1|     10019.5|  2|\n",
      "|    Paseo|2013-12|     18856.0|  1|\n",
      "|      VTT|2013-12|      8601.0|  2|\n",
      "|    Paseo| 2014-7|     22637.5|  1|\n",
      "| Amarilla| 2014-7|     11620.5|  2|\n",
      "|    Paseo| 2013-9|     15790.0|  1|\n",
      "|      VTT| 2013-9|      7953.0|  2|\n",
      "|    Paseo| 2014-4|     23653.0|  1|\n",
      "|Carretera| 2014-4|     13590.5|  2|\n",
      "|    Paseo| 2014-2|     14629.0|  1|\n",
      "|      VTT| 2014-2|     11210.0|  2|\n",
      "|    Paseo| 2014-6|     25598.0|  1|\n",
      "|      VTT| 2014-6|     17642.0|  2|\n",
      "|    Paseo|2013-11|     20812.0|  1|\n",
      "|      VTT|2013-11|     13256.0|  2|\n",
      "|    Paseo|2014-11|     14129.0|  1|\n",
      "|  Montana|2014-11|     10418.0|  2|\n",
      "|    Paseo| 2014-9|     17416.0|  1|\n",
      "| Amarilla| 2014-9|      9240.0|  2|\n",
      "+---------+-------+------------+---+\n",
      "only showing top 20 rows\n",
      "\n"
     ]
    },
    {
     "data": {
      "text/plain": [
       "p_sql1 = [Product: string, YM: string ... 2 more fields]\n"
      ]
     },
     "metadata": {},
     "output_type": "display_data"
    },
    {
     "data": {
      "text/plain": [
       "[Product: string, YM: string ... 2 more fields]"
      ]
     },
     "execution_count": 54,
     "metadata": {},
     "output_type": "execute_result"
    }
   ],
   "source": [
    "val p_sql1 = top2_sold_product.withColumn(\"top\", rank() over win3)\n",
    "                    .filter(\"top <= 2\")\n",
    "p_sql1.show"
   ]
  },
  {
   "cell_type": "markdown",
   "id": "bef07429",
   "metadata": {},
   "source": [
    "# 月度利润额最低top2商品"
   ]
  },
  {
   "cell_type": "code",
   "execution_count": 53,
   "id": "a5f36266",
   "metadata": {},
   "outputs": [
    {
     "data": {
      "text/plain": [
       "top2_sales_loe_product = [Product: string, YM: string ... 1 more field]\n"
      ]
     },
     "metadata": {},
     "output_type": "display_data"
    },
    {
     "data": {
      "text/plain": [
       "[Product: string, YM: string ... 1 more field]"
      ]
     },
     "execution_count": 53,
     "metadata": {},
     "output_type": "execute_result"
    }
   ],
   "source": [
    "var top2_sales_loe_product = \n",
    "pre_fcsv.groupBy(\"Product\", \"YM\")\n",
    "        .agg(sum(\"Profit\") as \"Profit_p\")"
   ]
  },
  {
   "cell_type": "code",
   "execution_count": 55,
   "id": "3188874e",
   "metadata": {},
   "outputs": [
    {
     "data": {
      "text/plain": [
       "win4 = org.apache.spark.sql.expressions.WindowSpec@57a77348\n"
      ]
     },
     "metadata": {},
     "output_type": "display_data"
    },
    {
     "data": {
      "text/plain": [
       "org.apache.spark.sql.expressions.WindowSpec@57a77348"
      ]
     },
     "execution_count": 55,
     "metadata": {},
     "output_type": "execute_result"
    }
   ],
   "source": [
    "val win4 = Window.partitionBy(\"YM\").orderBy(col(\"Profit_p\"))"
   ]
  },
  {
   "cell_type": "code",
   "execution_count": 58,
   "id": "8fdae16e",
   "metadata": {},
   "outputs": [
    {
     "name": "stdout",
     "output_type": "stream",
     "text": [
      "+---------+-------+---------+---+\n",
      "|  Product|     YM| Profit_p|top|\n",
      "+---------+-------+---------+---+\n",
      "|     Velo| 2014-1| 33366.28|  1|\n",
      "|Carretera| 2014-1| 58392.40|  2|\n",
      "|Carretera|2013-12| 56440.12|  1|\n",
      "|  Montana|2013-12| 64993.07|  2|\n",
      "|      VTT| 2014-7| 25720.00|  1|\n",
      "| Amarilla| 2014-7| 26787.55|  2|\n",
      "| Amarilla| 2013-9| 50549.23|  1|\n",
      "|     Velo| 2013-9| 57200.65|  2|\n",
      "| Amarilla| 2014-4| 66134.40|  1|\n",
      "|Carretera| 2014-4| 75822.68|  2|\n",
      "|  Montana| 2014-2|  7220.82|  1|\n",
      "|     Velo| 2014-2| 38983.75|  2|\n",
      "|      VTT| 2014-6| 67657.06|  1|\n",
      "|  Montana| 2014-6|115545.32|  2|\n",
      "|Carretera|2013-11| 14636.02|  1|\n",
      "| Amarilla|2013-11| 18673.95|  2|\n",
      "|     Velo|2014-11|  9853.72|  1|\n",
      "|Carretera|2014-11| 35039.25|  2|\n",
      "|  Montana| 2014-9| 11495.12|  1|\n",
      "|     Velo| 2014-9| 45643.75|  2|\n",
      "+---------+-------+---------+---+\n",
      "only showing top 20 rows\n",
      "\n"
     ]
    },
    {
     "data": {
      "text/plain": [
       "p_sql2 = [Product: string, YM: string ... 2 more fields]\n"
      ]
     },
     "metadata": {},
     "output_type": "display_data"
    },
    {
     "data": {
      "text/plain": [
       "[Product: string, YM: string ... 2 more fields]"
      ]
     },
     "execution_count": 58,
     "metadata": {},
     "output_type": "execute_result"
    }
   ],
   "source": [
    "val p_sql2 = top2_sales_loe_product.withColumn(\"top\", rank() over win4)\n",
    "                    .filter(\"top <= 2\").withColumn(\"Profit_p\", float_2f(col(\"Profit_p\")))\n",
    "p_sql2.show"
   ]
  },
  {
   "cell_type": "code",
   "execution_count": null,
   "id": "2bcc089e",
   "metadata": {},
   "outputs": [],
   "source": []
  }
 ],
 "metadata": {
  "kernelspec": {
   "display_name": "Apache Toree - Scala",
   "language": "scala",
   "name": "apache_toree_scala"
  },
  "language_info": {
   "codemirror_mode": "text/x-scala",
   "file_extension": ".scala",
   "mimetype": "text/x-scala",
   "name": "scala",
   "pygments_lexer": "scala",
   "version": "2.11.12"
  }
 },
 "nbformat": 4,
 "nbformat_minor": 5
}
