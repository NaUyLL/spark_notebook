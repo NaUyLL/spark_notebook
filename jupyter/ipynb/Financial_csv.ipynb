{
 "cells": [
  {
   "cell_type": "code",
   "execution_count": 1,
   "id": "cbed5c45",
   "metadata": {},
   "outputs": [
    {
     "data": {
      "text/plain": [
       "conf = org.apache.spark.SparkConf@69741331\n",
       "sc = org.apache.spark.SparkContext@3b71ef07\n",
       "spark = org.apache.spark.sql.SparkSession@45da8840\n"
      ]
     },
     "metadata": {},
     "output_type": "display_data"
    },
    {
     "data": {
      "text/plain": [
       "org.apache.spark.sql.SparkSession@45da8840"
      ]
     },
     "execution_count": 1,
     "metadata": {},
     "output_type": "execute_result"
    }
   ],
   "source": [
    "import org.apache.spark.{SparkConf, SparkContext}\n",
    "import org.apache.spark.sql.SparkSession\n",
    "import org.apache.spark.sql.types._\n",
    "import org.apache.spark.sql.functions._\n",
    "\n",
    "\n",
    "\n",
    "val conf=new SparkConf()\n",
    "      .setMaster(\"local\")//启动本地化计算\n",
    "      .setAppName(\"Financial\")//设置本程序名称\n",
    "val sc=new SparkContext(conf)\n",
    "val spark = SparkSession.builder().appName(\"Financial_csv\").getOrCreate()"
   ]
  },
  {
   "cell_type": "code",
   "execution_count": 2,
   "id": "48306a05",
   "metadata": {},
   "outputs": [
    {
     "data": {
      "text/plain": [
       "f_csv = [Segment: string, Country: string ... 14 more fields]\n"
      ]
     },
     "metadata": {},
     "output_type": "display_data"
    },
    {
     "data": {
      "text/plain": [
       "[Segment: string, Country: string ... 14 more fields]"
      ]
     },
     "execution_count": 2,
     "metadata": {},
     "output_type": "execute_result"
    }
   ],
   "source": [
    "val f_csv=spark.read.option(\"header\", \"true\").option(\"multiLine\", true).csv(\"../data/Financial_Sample.csv\")//读取本地文件"
   ]
  },
  {
   "cell_type": "code",
   "execution_count": 3,
   "id": "5e8f2396",
   "metadata": {},
   "outputs": [
    {
     "data": {
      "text/plain": [
       "fcol: Array[String] = Array(Segment, Country, \" Product \", \" Discount Band \", Units Sold(销量), \" Manufacturing Price（制造价格） \", \" Sale Price（销售价格） \", \" Gross Sales \", \" Discounts \", \"  Sales（销售额） \", \" COGS（总成本） \", \" Profit（利润） \", Date, Month Number, \" Month Name \", \"Year\r",
       "\")\n"
      ]
     },
     "metadata": {},
     "output_type": "display_data"
    }
   ],
   "source": [
    "val fcol = f_csv.columns"
   ]
  },
  {
   "cell_type": "code",
   "execution_count": 67,
   "id": "70773012",
   "metadata": {},
   "outputs": [
    {
     "data": {
      "text/plain": [
       "c2f = UserDefinedFunction(<function1>,StringType,Some(List(StringType)))\n"
      ]
     },
     "metadata": {},
     "output_type": "display_data"
    },
    {
     "data": {
      "text/plain": [
       "lastException: Throwable = null\n",
       "col2Float: (S: String)String\n"
      ]
     },
     "metadata": {},
     "output_type": "display_data"
    },
    {
     "data": {
      "text/plain": [
       "UserDefinedFunction(<function1>,StringType,Some(List(StringType)))"
      ]
     },
     "execution_count": 67,
     "metadata": {},
     "output_type": "execute_result"
    }
   ],
   "source": [
    "def col2Float(S: String) = {\n",
    "    var S_deal = S.trim()\n",
    "    if (S_deal.charAt(0).equals('$')){\n",
    "    S_deal = S_deal.substring(1, S_deal.length)\n",
    "    }\n",
    "    S_deal = S_deal.trim()\n",
    "    if (S_deal.indexOf(\"(\") != -1){\n",
    "        S_deal = S_deal.substring(S_deal.indexOf(\"(\")+1, S_deal.indexOf(\")\"))\n",
    "    }\n",
    "    if (S_deal.charAt(0).equals('-')){\n",
    "    \"0.0\"\n",
    "    }\n",
    "    else{\n",
    "        S_deal.replace(\",\",\"\").toFloat.formatted(\"%.2f\")\n",
    "    }\n",
    "    \n",
    "}\n",
    "var c2f = udf(col2Float _)"
   ]
  },
  {
   "cell_type": "code",
   "execution_count": 68,
   "id": "1de4bcd8",
   "metadata": {},
   "outputs": [
    {
     "data": {
      "text/plain": [
       "453375.00"
      ]
     },
     "execution_count": 68,
     "metadata": {},
     "output_type": "execute_result"
    }
   ],
   "source": [
    "col2Float(\"$(453,375.00)\")"
   ]
  },
  {
   "cell_type": "code",
   "execution_count": 5,
   "id": "100083d1",
   "metadata": {},
   "outputs": [
    {
     "data": {
      "text/plain": [
       "columnName_deal: (S: String)String\n"
      ]
     },
     "metadata": {},
     "output_type": "display_data"
    }
   ],
   "source": [
    "def columnName_deal(S: String)={\n",
    "    var S_deal = S.trim\n",
    "    var a = S_deal.indexOf(\"(\")\n",
    "    var b = S_deal.indexOf(\"（\")\n",
    "    if (a != -1){\n",
    "        if (b<a && b != -1)\n",
    "        {\n",
    "            S_deal = S_deal.substring(0,b).trim\n",
    "        }\n",
    "        else{\n",
    "            S_deal = S_deal.substring(0,a).trim\n",
    "        }  \n",
    "    }\n",
    "    else{\n",
    "        if (b != -1)\n",
    "        {\n",
    "            S_deal = S_deal.substring(0,b).trim\n",
    "        }\n",
    "        else{\n",
    "            S_deal = S_deal.trim\n",
    "        }\n",
    "    }\n",
    "    S_deal.replace(\" \", \"_\")\n",
    "}"
   ]
  },
  {
   "cell_type": "code",
   "execution_count": 6,
   "id": "1d3c9e9f",
   "metadata": {},
   "outputs": [
    {
     "data": {
      "text/plain": [
       "str_trim = UserDefinedFunction(<function1>,StringType,Some(List(StringType)))\n"
      ]
     },
     "metadata": {},
     "output_type": "display_data"
    },
    {
     "data": {
      "text/plain": [
       "UserDefinedFunction(<function1>,StringType,Some(List(StringType)))"
      ]
     },
     "execution_count": 6,
     "metadata": {},
     "output_type": "execute_result"
    }
   ],
   "source": [
    "val str_trim = udf((str: String) => str.trim())"
   ]
  },
  {
   "cell_type": "code",
   "execution_count": 7,
   "id": "43d9546d",
   "metadata": {},
   "outputs": [
    {
     "data": {
      "text/plain": [
       "dd = UserDefinedFunction(<function1>,StringType,Some(List(StringType)))\n"
      ]
     },
     "metadata": {},
     "output_type": "display_data"
    },
    {
     "data": {
      "text/plain": [
       "date_deal: (S: String)String\n"
      ]
     },
     "metadata": {},
     "output_type": "display_data"
    },
    {
     "data": {
      "text/plain": [
       "UserDefinedFunction(<function1>,StringType,Some(List(StringType)))"
      ]
     },
     "execution_count": 7,
     "metadata": {},
     "output_type": "execute_result"
    }
   ],
   "source": [
    "def date_deal(S: String)={\n",
    "    S.trim.replace(\"/\",\"-\")\n",
    "}\n",
    "var dd = udf(date_deal _)"
   ]
  },
  {
   "cell_type": "code",
   "execution_count": 8,
   "id": "4e893da5",
   "metadata": {
    "scrolled": true
   },
   "outputs": [
    {
     "data": {
      "text/plain": [
       "newf_csv = [Segment: string, Country: string ... 14 more fields]\n"
      ]
     },
     "metadata": {},
     "output_type": "display_data"
    },
    {
     "data": {
      "text/plain": [
       "[Segment: string, Country: string ... 14 more fields]"
      ]
     },
     "execution_count": 8,
     "metadata": {},
     "output_type": "execute_result"
    }
   ],
   "source": [
    "var newf_csv = f_csv.toDF(fcol.map(columnName_deal(_)):_*)"
   ]
  },
  {
   "cell_type": "code",
   "execution_count": 9,
   "id": "cef9d4ff",
   "metadata": {},
   "outputs": [
    {
     "data": {
      "text/plain": [
       "newf_csv = [Segment: string, Country: string ... 14 more fields]\n"
      ]
     },
     "metadata": {},
     "output_type": "display_data"
    },
    {
     "data": {
      "text/plain": [
       "[Segment: string, Country: string ... 14 more fields]"
      ]
     },
     "execution_count": 9,
     "metadata": {},
     "output_type": "execute_result"
    }
   ],
   "source": [
    "newf_csv = newf_csv.withColumn(\"Date\", dd(col(\"Date\")))\n",
    "                   .withColumn(\"Month_Number\", str_trim(col(\"Month_Number\")))\n",
    "                   .withColumn(\"Year\", str_trim(col(\"Year\")))"
   ]
  },
  {
   "cell_type": "code",
   "execution_count": 10,
   "id": "4ec209d5",
   "metadata": {},
   "outputs": [
    {
     "data": {
      "text/plain": [
       "newfcol = Array(Segment, Country, Product, Discount_Band, Units_Sold, Manufacturing_Price, Sale_Price, Gross_Sales, Discounts, Sales, COGS, Profit, Date, Month_Number, Month_Name, Year)\n"
      ]
     },
     "metadata": {},
     "output_type": "display_data"
    },
    {
     "data": {
      "text/plain": [
       "Array(Segment, Country, Product, Discount_Band, Units_Sold, Manufacturing_Price, Sale_Price, Gross_Sales, Discounts, Sales, COGS, Profit, Date, Month_Number, Month_Name, Year)"
      ]
     },
     "execution_count": 10,
     "metadata": {},
     "output_type": "execute_result"
    }
   ],
   "source": [
    "val newfcol = newf_csv.columns"
   ]
  },
  {
   "cell_type": "code",
   "execution_count": 11,
   "id": "c8e28d03",
   "metadata": {},
   "outputs": [
    {
     "data": {
      "text/plain": [
       "Array((), (), (), (), (), (), (), (), (), (), (), (), (), (), (), ())"
      ]
     },
     "execution_count": 11,
     "metadata": {},
     "output_type": "execute_result"
    }
   ],
   "source": [
    "newfcol.map(column =>{\n",
    "    newf_csv = newf_csv.withColumn(column, str_trim(col(column)))\n",
    "})"
   ]
  },
  {
   "cell_type": "code",
   "execution_count": 12,
   "id": "bf2a59c2",
   "metadata": {},
   "outputs": [
    {
     "data": {
      "text/plain": [
       "float_col = Array(Manufacturing_Price, Sale_Price, Gross_Sales, Discounts, Sales, COGS, Profit)\n"
      ]
     },
     "metadata": {},
     "output_type": "display_data"
    },
    {
     "data": {
      "text/plain": [
       "Array(Manufacturing_Price, Sale_Price, Gross_Sales, Discounts, Sales, COGS, Profit)"
      ]
     },
     "execution_count": 12,
     "metadata": {},
     "output_type": "execute_result"
    }
   ],
   "source": [
    "val float_col = newfcol.slice(5,12)"
   ]
  },
  {
   "cell_type": "code",
   "execution_count": 28,
   "id": "a13d9d08",
   "metadata": {},
   "outputs": [
    {
     "data": {
      "text/plain": [
       "Manufacturing_Price,Sale_Price,Gross_Sales,Discounts,Sales,COGS,Profit"
      ]
     },
     "execution_count": 28,
     "metadata": {},
     "output_type": "execute_result"
    }
   ],
   "source": [
    "float_col.toSeq.foldLeft(\"\")(_ + \",\" + _).substring(1)"
   ]
  },
  {
   "cell_type": "code",
   "execution_count": null,
   "id": "b31b74b6",
   "metadata": {},
   "outputs": [],
   "source": [
    "float_col.map(column =>{\n",
    "    newf_csv = newf_csv.withColumn(column, c2f(col(column)))\n",
    "})"
   ]
  },
  {
   "cell_type": "code",
   "execution_count": 16,
   "id": "365af6ec",
   "metadata": {},
   "outputs": [
    {
     "data": {
      "text/plain": [
       "Array([$32,370.00], [$26,420.00], [$32,670.00], [$13,320.00], [$37,050.00], [$529,550.00], [$13,815.00], [$30,216.00], [$37,980.00], [$18,540.00], [$37,050.00], [$333,187.50], [$287,400.00], [$15,022.00], [$43,125.00], [$9,225.00], [$5,840.00], [$14,610.00], [$30,216.00], [$352,100.00], [$4,404.00], [$6,181.00], [$8,235.00], [$236,400.00], [$37,080.00], [$8,001.00], [$603,750.00], [$10,944.00], [$32,280.00], [$36,340.00], [$529,550.00], [$10,451.00], [$225,500.00], [$25,932.00], [$352,100.00], [$18,540.00], [$352,625.00], [$43,125.00], [$600,300.00], [$34,056.00], [$32,670.00], [$13,320.00], [$534,450.00], [$645,300.00], [$36,340.00], [$962,500.00], [$23,436.00], [$527,437.50], [$37,980.00], [$11,802.00], [$25,692.00], [$8,001.00], [$9,225.00], [..."
      ]
     },
     "execution_count": 16,
     "metadata": {},
     "output_type": "execute_result"
    }
   ],
   "source": [
    "newf_csv.select(\"Gross_Sales\").collect()"
   ]
  },
  {
   "cell_type": "code",
   "execution_count": 18,
   "id": "6e0998cc",
   "metadata": {},
   "outputs": [],
   "source": [
    "import org.apache.spark.sql.SaveMode"
   ]
  },
  {
   "cell_type": "code",
   "execution_count": 19,
   "id": "6b6f569d",
   "metadata": {},
   "outputs": [],
   "source": [
    "newf_csv.write.mode(SaveMode.Append).partitionBy(\"Year\", \"Month_Number\", \"Date\").saveAsTable(\"financial\")"
   ]
  },
  {
   "cell_type": "code",
   "execution_count": 60,
   "id": "b5c24956",
   "metadata": {},
   "outputs": [
    {
     "data": {
      "text/plain": [
       "pre_fcsv = [Country: string, Product: string ... 6 more fields]\n"
      ]
     },
     "metadata": {},
     "output_type": "display_data"
    },
    {
     "data": {
      "text/plain": [
       "lastException: Throwable = null\n"
      ]
     },
     "metadata": {},
     "output_type": "display_data"
    },
    {
     "data": {
      "text/plain": [
       "[Country: string, Product: string ... 6 more fields]"
      ]
     },
     "execution_count": 60,
     "metadata": {},
     "output_type": "execute_result"
    }
   ],
   "source": [
    "var pre_fcsv = spark.sql(\"select Country, Product, Units_Sold, Sales, COGS, Profit, Year, Month_Number as Month from financial \")"
   ]
  },
  {
   "cell_type": "code",
   "execution_count": 40,
   "id": "8df01dd2",
   "metadata": {
    "scrolled": false
   },
   "outputs": [
    {
     "name": "stdout",
     "output_type": "stream",
     "text": [
      "+--------------------+---------+----------+-----------+-----------+-----------+----+-----+\n",
      "|             Country|  Product|Units_Sold|      Sales|       COGS|     Profit|Year|Month|\n",
      "+--------------------+---------+----------+-----------+-----------+-----------+----+-----+\n",
      "|United States of ...|    Paseo|      1143|  $8,001.00|  $5,715.00|  $2,286.00|2014|   10|\n",
      "|United States of ...| Amarilla|      1143|  $8,001.00|  $5,715.00|  $2,286.00|2014|   10|\n",
      "|              Mexico|Carretera|      1397|$484,060.50|$363,220.00|$120,840.50|2014|   10|\n",
      "|              Mexico|      VTT|      1397|$484,060.50|$363,220.00|$120,840.50|2014|   10|\n",
      "|              Canada|Carretera|      1295| $15,229.20|  $3,885.00| $11,344.20|2014|   10|\n",
      "|United States of ...|  Montana|      1566| $30,693.60| $15,660.00| $15,033.60|2014|   10|\n",
      "|              Canada|    Paseo|      1295| $15,229.20|  $3,885.00| $11,344.20|2014|   10|\n",
      "|United States of ...|     Velo|      1566| $30,693.60| $15,660.00| $15,033.60|2014|   10|\n",
      "|             Germany|     Velo|      2877|$986,811.00|$748,020.00|$238,791.00|2014|   10|\n",
      "|             Germany|      VTT|      2877|$986,811.00|$748,020.00|$238,791.00|2014|   10|\n",
      "|              Canada|    Paseo|      2009|$243,591.25|$241,080.00|  $2,511.25|2014|   10|\n",
      "|              Canada|     Velo|      2009|$243,591.25|$241,080.00|  $2,511.25|2014|   10|\n",
      "|              Mexico|  Montana|      2031| $29,246.40| $20,310.00|  $8,936.40|2014|   10|\n",
      "|              Mexico|    Paseo|      2031| $29,246.40| $20,310.00|  $8,936.40|2014|   10|\n",
      "|             Germany|Carretera|      2021|$582,048.00|$505,250.00| $76,798.00|2014|   10|\n",
      "|             Germany|  Montana|      2021|$582,048.00|$505,250.00| $76,798.00|2014|   10|\n",
      "|              France|     Velo|      2177|$731,472.00|$566,020.00|$165,452.00|2014|   10|\n",
      "|              France|      VTT|      2177|$731,472.00|$566,020.00|$165,452.00|2014|   10|\n",
      "|              Mexico|    Paseo|      2689| $17,881.85| $13,445.00|  $4,436.85|2014|   10|\n",
      "|              Mexico|      VTT|      2689| $17,881.85| $13,445.00|  $4,436.85|2014|   10|\n",
      "+--------------------+---------+----------+-----------+-----------+-----------+----+-----+\n",
      "only showing top 20 rows\n",
      "\n"
     ]
    }
   ],
   "source": [
    "pre_fcsv.show"
   ]
  },
  {
   "cell_type": "code",
   "execution_count": 61,
   "id": "bfdaecc4",
   "metadata": {},
   "outputs": [
    {
     "name": "stdout",
     "output_type": "stream",
     "text": [
      "+-----------+\n",
      "|      Sales|\n",
      "+-----------+\n",
      "|  $8,001.00|\n",
      "|  $8,001.00|\n",
      "|$484,060.50|\n",
      "|$484,060.50|\n",
      "| $15,229.20|\n",
      "| $30,693.60|\n",
      "| $15,229.20|\n",
      "| $30,693.60|\n",
      "|$986,811.00|\n",
      "|$986,811.00|\n",
      "|$243,591.25|\n",
      "|$243,591.25|\n",
      "| $29,246.40|\n",
      "| $29,246.40|\n",
      "|$582,048.00|\n",
      "|$582,048.00|\n",
      "|$731,472.00|\n",
      "|$731,472.00|\n",
      "| $17,881.85|\n",
      "| $17,881.85|\n",
      "+-----------+\n",
      "only showing top 20 rows\n",
      "\n"
     ]
    }
   ],
   "source": [
    "pre_fcsv.select(\"Sales\").show"
   ]
  },
  {
   "cell_type": "code",
   "execution_count": 62,
   "id": "6ebdd0c5",
   "metadata": {
    "scrolled": true
   },
   "outputs": [
    {
     "data": {
      "text/plain": [
       "pre_fcsv = [Country: string, Product: string ... 6 more fields]\n"
      ]
     },
     "metadata": {},
     "output_type": "display_data"
    },
    {
     "data": {
      "text/plain": [
       "[Country: string, Product: string ... 6 more fields]"
      ]
     },
     "execution_count": 62,
     "metadata": {},
     "output_type": "execute_result"
    }
   ],
   "source": [
    "pre_fcsv = pre_fcsv.withColumn(\"Sales\", c2f(col(\"Sales\")))"
   ]
  },
  {
   "cell_type": "code",
   "execution_count": 63,
   "id": "8a48ee67",
   "metadata": {},
   "outputs": [
    {
     "name": "stdout",
     "output_type": "stream",
     "text": [
      "+--------------------+---------+----------+---------+---------+-----------+----+-----+\n",
      "|             Country|  Product|Units_Sold|    Sales|     COGS|     Profit|Year|Month|\n",
      "+--------------------+---------+----------+---------+---------+-----------+----+-----+\n",
      "|United States of ...|    Paseo|      1143|  8001.00|  5715.00|  $2,286.00|2014|   10|\n",
      "|United States of ...| Amarilla|      1143|  8001.00|  5715.00|  $2,286.00|2014|   10|\n",
      "|              Mexico|Carretera|      1397|484060.50|363220.00|$120,840.50|2014|   10|\n",
      "|              Mexico|      VTT|      1397|484060.50|363220.00|$120,840.50|2014|   10|\n",
      "|              Canada|Carretera|      1295| 15229.20|  3885.00| $11,344.20|2014|   10|\n",
      "|United States of ...|  Montana|      1566| 30693.60| 15660.00| $15,033.60|2014|   10|\n",
      "|              Canada|    Paseo|      1295| 15229.20|  3885.00| $11,344.20|2014|   10|\n",
      "|United States of ...|     Velo|      1566| 30693.60| 15660.00| $15,033.60|2014|   10|\n",
      "|             Germany|     Velo|      2877|986811.00|748020.00|$238,791.00|2014|   10|\n",
      "|             Germany|      VTT|      2877|986811.00|748020.00|$238,791.00|2014|   10|\n",
      "|              Canada|    Paseo|      2009|243591.25|241080.00|  $2,511.25|2014|   10|\n",
      "|              Canada|     Velo|      2009|243591.25|241080.00|  $2,511.25|2014|   10|\n",
      "|              Mexico|  Montana|      2031| 29246.40| 20310.00|  $8,936.40|2014|   10|\n",
      "|              Mexico|    Paseo|      2031| 29246.40| 20310.00|  $8,936.40|2014|   10|\n",
      "|             Germany|Carretera|      2021|582048.00|505250.00| $76,798.00|2014|   10|\n",
      "|             Germany|  Montana|      2021|582048.00|505250.00| $76,798.00|2014|   10|\n",
      "|              France|     Velo|      2177|731472.00|566020.00|$165,452.00|2014|   10|\n",
      "|              France|      VTT|      2177|731472.00|566020.00|$165,452.00|2014|   10|\n",
      "|              Mexico|    Paseo|      2689| 17881.85| 13445.00|  $4,436.85|2014|   10|\n",
      "|              Mexico|      VTT|      2689| 17881.85| 13445.00|  $4,436.85|2014|   10|\n",
      "+--------------------+---------+----------+---------+---------+-----------+----+-----+\n",
      "only showing top 20 rows\n",
      "\n"
     ]
    },
    {
     "data": {
      "text/plain": [
       "pre_fcsv = [Country: string, Product: string ... 6 more fields]\n"
      ]
     },
     "metadata": {},
     "output_type": "display_data"
    },
    {
     "data": {
      "text/plain": [
       "[Country: string, Product: string ... 6 more fields]"
      ]
     },
     "execution_count": 63,
     "metadata": {},
     "output_type": "execute_result"
    }
   ],
   "source": [
    "pre_fcsv = pre_fcsv.withColumn(\"COGS\", c2f(col(\"COGS\")))\n",
    "pre_fcsv.show"
   ]
  },
  {
   "cell_type": "code",
   "execution_count": 69,
   "id": "2e034bd8",
   "metadata": {
    "scrolled": true
   },
   "outputs": [
    {
     "name": "stdout",
     "output_type": "stream",
     "text": [
      "+--------------------+---------+----------+---------+---------+---------+----+-----+\n",
      "|             Country|  Product|Units_Sold|    Sales|     COGS|   Profit|Year|Month|\n",
      "+--------------------+---------+----------+---------+---------+---------+----+-----+\n",
      "|United States of ...|    Paseo|      1143|  8001.00|  5715.00|  2286.00|2014|   10|\n",
      "|United States of ...| Amarilla|      1143|  8001.00|  5715.00|  2286.00|2014|   10|\n",
      "|              Mexico|Carretera|      1397|484060.50|363220.00|120840.50|2014|   10|\n",
      "|              Mexico|      VTT|      1397|484060.50|363220.00|120840.50|2014|   10|\n",
      "|              Canada|Carretera|      1295| 15229.20|  3885.00| 11344.20|2014|   10|\n",
      "|United States of ...|  Montana|      1566| 30693.60| 15660.00| 15033.60|2014|   10|\n",
      "|              Canada|    Paseo|      1295| 15229.20|  3885.00| 11344.20|2014|   10|\n",
      "|United States of ...|     Velo|      1566| 30693.60| 15660.00| 15033.60|2014|   10|\n",
      "|             Germany|     Velo|      2877|986811.00|748020.00|238791.00|2014|   10|\n",
      "|             Germany|      VTT|      2877|986811.00|748020.00|238791.00|2014|   10|\n",
      "|              Canada|    Paseo|      2009|243591.25|241080.00|  2511.25|2014|   10|\n",
      "|              Canada|     Velo|      2009|243591.25|241080.00|  2511.25|2014|   10|\n",
      "|              Mexico|  Montana|      2031| 29246.40| 20310.00|  8936.40|2014|   10|\n",
      "|              Mexico|    Paseo|      2031| 29246.40| 20310.00|  8936.40|2014|   10|\n",
      "|             Germany|Carretera|      2021|582048.00|505250.00| 76798.00|2014|   10|\n",
      "|             Germany|  Montana|      2021|582048.00|505250.00| 76798.00|2014|   10|\n",
      "|              France|     Velo|      2177|731472.00|566020.00|165452.00|2014|   10|\n",
      "|              France|      VTT|      2177|731472.00|566020.00|165452.00|2014|   10|\n",
      "|              Mexico|    Paseo|      2689| 17881.85| 13445.00|  4436.85|2014|   10|\n",
      "|              Mexico|      VTT|      2689| 17881.85| 13445.00|  4436.85|2014|   10|\n",
      "+--------------------+---------+----------+---------+---------+---------+----+-----+\n",
      "only showing top 20 rows\n",
      "\n"
     ]
    },
    {
     "data": {
      "text/plain": [
       "pre_fcsv = [Country: string, Product: string ... 6 more fields]\n"
      ]
     },
     "metadata": {},
     "output_type": "display_data"
    },
    {
     "data": {
      "text/plain": [
       "[Country: string, Product: string ... 6 more fields]"
      ]
     },
     "execution_count": 69,
     "metadata": {},
     "output_type": "execute_result"
    }
   ],
   "source": [
    "pre_fcsv = pre_fcsv.withColumn(\"Profit\", c2f(col(\"Profit\")))\n",
    "pre_fcsv.show"
   ]
  },
  {
   "cell_type": "code",
   "execution_count": 93,
   "id": "621f0ee8",
   "metadata": {},
   "outputs": [
    {
     "data": {
      "text/plain": [
       "pre_fcsv = [Country: string, Product: string ... 5 more fields]\n"
      ]
     },
     "metadata": {},
     "output_type": "display_data"
    },
    {
     "data": {
      "text/plain": [
       "[Country: string, Product: string ... 5 more fields]"
      ]
     },
     "execution_count": 93,
     "metadata": {},
     "output_type": "execute_result"
    }
   ],
   "source": [
    "pre_fcsv = pre_fcsv.withColumn(\"YM\", concat_ws(\"-\",col(\"Year\"), col(\"Month\"))).drop(\"Year\",\"Month\")"
   ]
  },
  {
   "cell_type": "code",
   "execution_count": 76,
   "id": "99ab95ea",
   "metadata": {},
   "outputs": [
    {
     "data": {
      "text/plain": [
       "float_2f = UserDefinedFunction(<function1>,StringType,Some(List(StringType)))\n"
      ]
     },
     "metadata": {},
     "output_type": "display_data"
    },
    {
     "data": {
      "text/plain": [
       "UserDefinedFunction(<function1>,StringType,Some(List(StringType)))"
      ]
     },
     "execution_count": 76,
     "metadata": {},
     "output_type": "execute_result"
    }
   ],
   "source": [
    "val float_2f = udf((str: String) => str.toFloat.formatted(\"%.2f\"))"
   ]
  },
  {
   "cell_type": "markdown",
   "id": "f5ed5b93",
   "metadata": {},
   "source": [
    "# 月度销售额top3国家"
   ]
  },
  {
   "cell_type": "code",
   "execution_count": 97,
   "id": "abced0cc",
   "metadata": {},
   "outputs": [
    {
     "data": {
      "text/plain": [
       "top3_sales_country = [Country: string, YM: string ... 1 more field]\n"
      ]
     },
     "metadata": {},
     "output_type": "display_data"
    },
    {
     "data": {
      "text/plain": [
       "Array([Canada,2014-12,3959729.50], [Germany,2014-10,3421587.25], [France,2014-10,3379661.50])"
      ]
     },
     "execution_count": 97,
     "metadata": {},
     "output_type": "execute_result"
    }
   ],
   "source": [
    "var top3_sales_country = \n",
    "pre_fcsv.groupBy(\"Country\", \"YM\")\n",
    "        .agg(sum(\"Sales\") as \"Sales_c\")\n",
    "        .orderBy(- col(\"Sales_c\"))\n",
    "        .withColumn(\"Sales_c\", float_2f(col(\"Sales_c\")))\n",
    "top3_sales_country.take(3)"
   ]
  },
  {
   "cell_type": "markdown",
   "id": "bcd52d1f",
   "metadata": {},
   "source": [
    "# 月度利润率top3国家"
   ]
  },
  {
   "cell_type": "code",
   "execution_count": 101,
   "id": "bbfbf3a6",
   "metadata": {},
   "outputs": [
    {
     "data": {
      "text/plain": [
       "top3_profitraio_country = [Country: string, YM: string ... 3 more fields]\n"
      ]
     },
     "metadata": {},
     "output_type": "display_data"
    },
    {
     "data": {
      "text/plain": [
       "Array([France,2013-9,0.31], [Germany,2013-10,0.30], [Canada,2013-10,0.28])"
      ]
     },
     "execution_count": 101,
     "metadata": {},
     "output_type": "execute_result"
    }
   ],
   "source": [
    "var top3_profitraio_country = \n",
    "pre_fcsv.groupBy(\"Country\", \"YM\")\n",
    "        .agg(sum(\"COGS\") as \"COGS_c\", sum(\"Profit\") as \"Profit_c\")\n",
    "        .withColumn(\"Profit_ratio\", col(\"Profit_c\")/col(\"COGS_c\"))\n",
    "        .orderBy(- col(\"Profit_ratio\"))\n",
    "        .withColumn(\"Profit_ratio\", float_2f(col(\"Profit_ratio\")))\n",
    "top3_profitraio_country.select(\"Country\", \"YM\", \"Profit_ratio\").take(3)"
   ]
  },
  {
   "cell_type": "markdown",
   "id": "4614aac9",
   "metadata": {},
   "source": [
    "# 月度畅销top2商品"
   ]
  },
  {
   "cell_type": "code",
   "execution_count": 106,
   "id": "02e22756",
   "metadata": {
    "scrolled": true
   },
   "outputs": [
    {
     "data": {
      "text/plain": [
       "top2_sold_product = [Product: string, YM: string ... 1 more field]\n"
      ]
     },
     "metadata": {},
     "output_type": "display_data"
    },
    {
     "data": {
      "text/plain": [
       "Array([Paseo,2014-12,33763.0], [Paseo,2014-10,29623.0])"
      ]
     },
     "execution_count": 106,
     "metadata": {},
     "output_type": "execute_result"
    }
   ],
   "source": [
    "var top2_sold_product = \n",
    "pre_fcsv.groupBy(\"Product\", \"YM\")\n",
    "        .agg(sum(\"Units_Sold\") as \"Units_Sold_p\")\n",
    "        .orderBy(- col(\"Units_Sold_p\"))\n",
    "top2_sold_product.take(2)"
   ]
  },
  {
   "cell_type": "markdown",
   "id": "bef07429",
   "metadata": {},
   "source": [
    "# 月度利润额最低top2商品"
   ]
  },
  {
   "cell_type": "code",
   "execution_count": 109,
   "id": "a5f36266",
   "metadata": {},
   "outputs": [
    {
     "data": {
      "text/plain": [
       "top2_sales_loe_product = [Product: string, YM: string ... 1 more field]\n"
      ]
     },
     "metadata": {},
     "output_type": "display_data"
    },
    {
     "data": {
      "text/plain": [
       "Array([Montana,2014-2,7220.82], [VTT,2014-3,9699.56])"
      ]
     },
     "execution_count": 109,
     "metadata": {},
     "output_type": "execute_result"
    }
   ],
   "source": [
    "var top2_sales_loe_product = \n",
    "pre_fcsv.groupBy(\"Product\", \"YM\")\n",
    "        .agg(sum(\"Profit\") as \"Profit_p\")\n",
    "        .orderBy(col(\"Profit_p\"))\n",
    "        .withColumn(\"Profit_p\", float_2f(col(\"Profit_p\")))\n",
    "top2_sales_loe_product.take(2)"
   ]
  },
  {
   "cell_type": "code",
   "execution_count": null,
   "id": "3188874e",
   "metadata": {},
   "outputs": [],
   "source": []
  }
 ],
 "metadata": {
  "kernelspec": {
   "display_name": "Apache Toree - Scala",
   "language": "scala",
   "name": "apache_toree_scala"
  },
  "language_info": {
   "codemirror_mode": "text/x-scala",
   "file_extension": ".scala",
   "mimetype": "text/x-scala",
   "name": "scala",
   "pygments_lexer": "scala",
   "version": "2.11.12"
  }
 },
 "nbformat": 4,
 "nbformat_minor": 5
}
