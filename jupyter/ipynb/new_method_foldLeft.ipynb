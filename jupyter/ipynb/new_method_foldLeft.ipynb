{
 "cells": [
  {
   "cell_type": "code",
   "execution_count": 1,
   "id": "2dd17224",
   "metadata": {},
   "outputs": [
    {
     "data": {
      "text/plain": [
       "conf = org.apache.spark.SparkConf@5699875\n",
       "sc = org.apache.spark.SparkContext@1fe2662f\n",
       "spark = org.apache.spark.sql.SparkSession@7962ed77\n"
      ]
     },
     "metadata": {},
     "output_type": "display_data"
    },
    {
     "data": {
      "text/plain": [
       "org.apache.spark.sql.SparkSession@7962ed77"
      ]
     },
     "execution_count": 1,
     "metadata": {},
     "output_type": "execute_result"
    }
   ],
   "source": [
    "import org.apache.spark.{SparkConf, SparkContext}\n",
    "import org.apache.spark.sql.SparkSession\n",
    "import org.apache.spark.sql.types._\n",
    "import org.apache.spark.sql.functions._\n",
    "\n",
    "\n",
    "\n",
    "val conf=new SparkConf()\n",
    "      .setMaster(\"local\")//启动本地化计算\n",
    "      .setAppName(\"testRdd\")//设置本程序名称\n",
    "val sc=new SparkContext(conf)\n",
    "val spark = SparkSession.builder().appName(\"csv_app\").getOrCreate()"
   ]
  },
  {
   "cell_type": "code",
   "execution_count": 2,
   "id": "8e32e0a1",
   "metadata": {},
   "outputs": [
    {
     "data": {
      "text/plain": [
       "csv1 = [StartDate: string, EndDate: string ... 3244 more fields]\n",
       "csv2 = [Attribute: string, Electrolux: string ... 51 more fields]\n"
      ]
     },
     "metadata": {},
     "output_type": "display_data"
    },
    {
     "data": {
      "text/plain": [
       "[Attribute: string, Electrolux: string ... 51 more fields]"
      ]
     },
     "execution_count": 2,
     "metadata": {},
     "output_type": "execute_result"
    }
   ],
   "source": [
    "val csv1=spark.read.option(\"header\", \"true\").option(\"multiLine\", true).csv(\"../data/input.csv\")//读取本地文件\n",
    "val csv2=spark.read.option(\"header\", \"true\").option(\"multiLine\", true).csv(\"../data/attribute_mapping.csv\")"
   ]
  },
  {
   "cell_type": "code",
   "execution_count": 3,
   "id": "fcd56f8f",
   "metadata": {},
   "outputs": [
    {
     "data": {
      "text/plain": [
       "col2 = Array(Attribute, Electrolux, AEG, Westinghouse, Zanussi, Simpson, Haier, Asko, Smeg, LG, Samsung, Fisher & Paykel, Bosch, Miele, Hisense, Kelvinator, Panasonic, Sharp, Toshiba, Hitachi, Daikin, Elba, Aqua, Teka, Midea, Beko, Rinnai, Fotile, Mitsubishi, Modena, Tecnogas, Ariston, Polytron, Sanken, White-Westinghouse, Fujidenzo, La Germania, Whirlpool, Defy, Siemens, KIC, Olympic Electric, Fresh, Kiriazi, White Point, Arthur Martin, Franke, Bauknecht, Sauter, Tornado, Gibson, Maytag, Indesit)\n",
       "brand = Array(Electrolux, AEG, Westinghouse, Zanussi, Simpson, Haier, Asko, Smeg, LG, Samsung, Fisher & Paykel, Bosch, Miele, Hisense, Kelvinator, Panasonic, Sharp, Toshiba, Hitachi, Daikin, Elba, Aqua, Teka, Midea, Beko, Rinnai, Fotile, Mitsubishi, Modena, Tecnog...\n"
      ]
     },
     "metadata": {},
     "output_type": "display_data"
    },
    {
     "data": {
      "text/plain": [
       "Array(Electrolux, AEG, Westinghouse, Zanussi, Simpson, Haier, Asko, Smeg, LG, Samsung, Fisher & Paykel, Bosch, Miele, Hisense, Kelvinator, Panasonic, Sharp, Toshiba, Hitachi, Daikin, Elba, Aqua, Teka, Midea, Beko, Rinnai, Fotile, Mitsubishi, Modena, Tecnog..."
      ]
     },
     "execution_count": 3,
     "metadata": {},
     "output_type": "execute_result"
    }
   ],
   "source": [
    "val col2 = csv2.columns\n",
    "val brand = col2.slice(1, col2.length)"
   ]
  },
  {
   "cell_type": "code",
   "execution_count": 4,
   "id": "f0506587",
   "metadata": {},
   "outputs": [
    {
     "name": "stdout",
     "output_type": "stream",
     "text": [
      "+--------------------+---------------+-----------------+\n",
      "|           Attribute|          Brand|         Question|\n",
      "+--------------------+---------------+-----------------+\n",
      "|is a leader in su...|     Electrolux|sustainability_57|\n",
      "|is a leader in su...|            AEG|sustainability_58|\n",
      "|is a leader in su...|   Westinghouse|sustainability_59|\n",
      "|is a leader in su...|        Zanussi|sustainability_95|\n",
      "|is a leader in su...|        Simpson|sustainability_68|\n",
      "|is a leader in su...|          Haier|sustainability_60|\n",
      "|is a leader in su...|           Asko|sustainability_61|\n",
      "|is a leader in su...|           Smeg|sustainability_62|\n",
      "|is a leader in su...|             LG|sustainability_63|\n",
      "|is a leader in su...|        Samsung|sustainability_64|\n",
      "|is a leader in su...|Fisher & Paykel|sustainability_65|\n",
      "|is a leader in su...|          Bosch|sustainability_66|\n",
      "|is a leader in su...|          Miele|sustainability_67|\n",
      "|is a leader in su...|        Hisense|sustainability_70|\n",
      "|is a leader in su...|     Kelvinator|sustainability_71|\n",
      "|is a leader in su...|      Panasonic|sustainability_72|\n",
      "|is a leader in su...|          Sharp|sustainability_73|\n",
      "|is a leader in su...|        Toshiba|sustainability_74|\n",
      "|is a leader in su...|        Hitachi|sustainability_75|\n",
      "|is a leader in su...|         Daikin|sustainability_76|\n",
      "+--------------------+---------------+-----------------+\n",
      "only showing top 20 rows\n",
      "\n"
     ]
    },
    {
     "data": {
      "text/plain": [
       "csv2DF = [Attribute: string, Brand: string ... 1 more field]\n"
      ]
     },
     "metadata": {},
     "output_type": "display_data"
    },
    {
     "data": {
      "text/plain": [
       "[Attribute: string, Brand: string ... 1 more field]"
      ]
     },
     "execution_count": 4,
     "metadata": {},
     "output_type": "execute_result"
    }
   ],
   "source": [
    "var csv2DF =\n",
    "brand.foldLeft(csv2)((df,b)=>{\n",
    "    df.withColumn(b,concat(lit(b+\":\"),col(b)))\n",
    "})\n",
    ".select(col(\"Attribute\"), concat_ws(\",\", brand.map(name => col(name)): _*).as(\"Question\"))\n",
    ".select(col(\"Attribute\"), explode(split(col(\"Question\"),\",\")).as(\"Question\"))\n",
    ".withColumn(\"splitcol\",split(col(\"Question\"), \":\"))\n",
    ".select(col(\"Attribute\"),\n",
    "        col(\"splitcol\").getItem(0).as(\"Brand\"),\n",
    "        col(\"splitcol\").getItem(1).as(\"Question\"))\n",
    ".drop(\"splitcol\")\n",
    "\n",
    "csv2DF.show"
   ]
  },
  {
   "cell_type": "code",
   "execution_count": 4,
   "id": "17fbf80f",
   "metadata": {},
   "outputs": [
    {
     "name": "stdout",
     "output_type": "stream",
     "text": [
      "+--------------------+---------------+-----------------+\n",
      "|           Attribute|          Brand|         Question|\n",
      "+--------------------+---------------+-----------------+\n",
      "|is a leader in su...|     Electrolux|sustainability_57|\n",
      "|is a leader in su...|            AEG|sustainability_58|\n",
      "|is a leader in su...|   Westinghouse|sustainability_59|\n",
      "|is a leader in su...|        Zanussi|sustainability_95|\n",
      "|is a leader in su...|        Simpson|sustainability_68|\n",
      "|is a leader in su...|          Haier|sustainability_60|\n",
      "|is a leader in su...|           Asko|sustainability_61|\n",
      "|is a leader in su...|           Smeg|sustainability_62|\n",
      "|is a leader in su...|             LG|sustainability_63|\n",
      "|is a leader in su...|        Samsung|sustainability_64|\n",
      "|is a leader in su...|Fisher & Paykel|sustainability_65|\n",
      "|is a leader in su...|          Bosch|sustainability_66|\n",
      "|is a leader in su...|          Miele|sustainability_67|\n",
      "|is a leader in su...|        Hisense|sustainability_70|\n",
      "|is a leader in su...|     Kelvinator|sustainability_71|\n",
      "|is a leader in su...|      Panasonic|sustainability_72|\n",
      "|is a leader in su...|          Sharp|sustainability_73|\n",
      "|is a leader in su...|        Toshiba|sustainability_74|\n",
      "|is a leader in su...|        Hitachi|sustainability_75|\n",
      "|is a leader in su...|         Daikin|sustainability_76|\n",
      "+--------------------+---------------+-----------------+\n",
      "only showing top 20 rows\n",
      "\n"
     ]
    },
    {
     "data": {
      "text/plain": [
       "csv2DF = [Attribute: string, Brand: string ... 1 more field]\n"
      ]
     },
     "metadata": {},
     "output_type": "display_data"
    },
    {
     "data": {
      "text/plain": [
       "[Attribute: string, Brand: string ... 1 more field]"
      ]
     },
     "execution_count": 4,
     "metadata": {},
     "output_type": "execute_result"
    }
   ],
   "source": [
    "var csv2DF =\n",
    "brand.foldLeft(csv2)((df,b)=>{\n",
    "    var bcol = csv2.col(b)\n",
    "    var bnew = concat(lit(b+\":\"),bcol)\n",
    "    df.withColumn(b,bnew)\n",
    "})\n",
    ".select(col(\"Attribute\"), concat_ws(\",\", brand.map(name => col(name)): _*).as(\"Question\"))\n",
    ".select(col(\"Attribute\"), explode(split(col(\"Question\"),\",\")).as(\"Question\"))\n",
    ".withColumn(\"splitcol\",split(col(\"Question\"), \":\"))\n",
    ".select(col(\"Attribute\"),\n",
    "        col(\"splitcol\").getItem(0).as(\"Brand\"),\n",
    "        col(\"splitcol\").getItem(1).as(\"Question\"))\n",
    ".drop(\"splitcol\")\n",
    "\n",
    "csv2DF.show"
   ]
  },
  {
   "cell_type": "code",
   "execution_count": 5,
   "id": "f1a56ca5",
   "metadata": {},
   "outputs": [
    {
     "data": {
      "text/plain": [
       "Ques = Array(sustainability_57, sustainability_58, sustainability_59, sustainability_95, sustainability_68, sustainability_60, sustainability_61, sustainability_62, sustainability_63, sustainability_64, sustainability_65, sustainability_66, sustainability_67, sustainability_70, sustainability_71, sustainability_72, sustainability_73, sustainability_74, sustainability_75, sustainability_76, sustainability_92, sustainability_77, sustainability_78, sustainability_79, sustainability_80, sustainability_81, sustainability_82, sustainability_83, sustainability_84, sustainability_85, sustainability_86, sustainability_87, sustainability_88, sustainability_89, sustainability_90, sustainability_91, sustainability_93, sustainability_96, sustainability_97, sustainability_98, sustainab...\n"
      ]
     },
     "metadata": {},
     "output_type": "display_data"
    },
    {
     "data": {
      "text/plain": [
       "Array(sustainability_57, sustainability_58, sustainability_59, sustainability_95, sustainability_68, sustainability_60, sustainability_61, sustainability_62, sustainability_63, sustainability_64, sustainability_65, sustainability_66, sustainability_67, sustainability_70, sustainability_71, sustainability_72, sustainability_73, sustainability_74, sustainability_75, sustainability_76, sustainability_92, sustainability_77, sustainability_78, sustainability_79, sustainability_80, sustainability_81, sustainability_82, sustainability_83, sustainability_84, sustainability_85, sustainability_86, sustainability_87, sustainability_88, sustainability_89, sustainability_90, sustainability_91, sustainability_93, sustainability_96, sustainability_97, sustainability_98, sustainab..."
      ]
     },
     "execution_count": 5,
     "metadata": {},
     "output_type": "execute_result"
    }
   ],
   "source": [
    "var Ques = csv2DF.select(\"Question\").collect.map(_(0).toString)\n"
   ]
  },
  {
   "cell_type": "code",
   "execution_count": 6,
   "id": "611e8bdf",
   "metadata": {},
   "outputs": [
    {
     "data": {
      "text/plain": [
       "myList1 = Array(EndDate, ResponseId)\n",
       "newcol = Array(EndDate, ResponseId, sustainability_57, sustainability_58, sustainability_59, sustainability_95, sustainability_68, sustainability_60, sustainability_61, sustainability_62, sustainability_63, sustainability_64, sustainability_65, sustainability_66, sustainability_67, sustainability_70, sustainability_71, sustainability_72, sustainability_73, sustainability_74, sustainability_75, sustainability_76, sustainability_92, sustainability_77, sustainability_78, sustainability_79, sustainability_80, sustainability_81, sustainability_82, sustainability_83, sustainability_84, sustainability_85, sustainability_86, sustainability_87, sustainability_88, sustainability_89, sustainability_90, sustainability_91, sustainabi...\n"
      ]
     },
     "metadata": {},
     "output_type": "display_data"
    },
    {
     "data": {
      "text/plain": [
       "Array(EndDate, ResponseId, sustainability_57, sustainability_58, sustainability_59, sustainability_95, sustainability_68, sustainability_60, sustainability_61, sustainability_62, sustainability_63, sustainability_64, sustainability_65, sustainability_66, sustainability_67, sustainability_70, sustainability_71, sustainability_72, sustainability_73, sustainability_74, sustainability_75, sustainability_76, sustainability_92, sustainability_77, sustainability_78, sustainability_79, sustainability_80, sustainability_81, sustainability_82, sustainability_83, sustainability_84, sustainability_85, sustainability_86, sustainability_87, sustainability_88, sustainability_89, sustainability_90, sustainability_91, sustainabi..."
      ]
     },
     "execution_count": 6,
     "metadata": {},
     "output_type": "execute_result"
    }
   ],
   "source": [
    "//csv1.select((Ques.map(col(_)):_*)).show\n",
    "var myList1 = Array(\"EndDate\", \"ResponseId\")\n",
    "var newcol = myList1++Ques\n",
    "//var newcol = concat(myList1, Ques)\n",
    "var needdf = csv1.select((newcol.map(col(_)):_*))"
   ]
  },
  {
   "cell_type": "code",
   "execution_count": 19,
   "id": "1c678f5d",
   "metadata": {},
   "outputs": [
    {
     "data": {
      "text/plain": [
       "needdf = [EndDate: string, ResponseId: string ... 884 more fields]\n"
      ]
     },
     "metadata": {},
     "output_type": "display_data"
    },
    {
     "data": {
      "text/plain": [
       "[EndDate: string, ResponseId: string ... 884 more fields]"
      ]
     },
     "execution_count": 19,
     "metadata": {},
     "output_type": "execute_result"
    }
   ],
   "source": [
    "needdf = needdf.na.fill(\"null\")"
   ]
  },
  {
   "cell_type": "code",
   "execution_count": 20,
   "id": "a820d8d8",
   "metadata": {
    "scrolled": false
   },
   "outputs": [
    {
     "name": "stdout",
     "output_type": "stream",
     "text": [
      "+-------------------+-----------------+-----------------+-----+\n",
      "|            EndDate|       ResponseId|         Question|Value|\n",
      "+-------------------+-----------------+-----------------+-----+\n",
      "|2020-06-06 04:31:23|R_UtgzI4lZXXLGqHv|sustainability_57| null|\n",
      "|2020-06-06 04:31:23|R_UtgzI4lZXXLGqHv|sustainability_58| null|\n",
      "|2020-06-06 04:31:23|R_UtgzI4lZXXLGqHv|sustainability_59| null|\n",
      "|2020-06-06 04:31:23|R_UtgzI4lZXXLGqHv|sustainability_95| null|\n",
      "|2020-06-06 04:31:23|R_UtgzI4lZXXLGqHv|sustainability_68| null|\n",
      "|2020-06-06 04:31:23|R_UtgzI4lZXXLGqHv|sustainability_60| null|\n",
      "|2020-06-06 04:31:23|R_UtgzI4lZXXLGqHv|sustainability_61| null|\n",
      "|2020-06-06 04:31:23|R_UtgzI4lZXXLGqHv|sustainability_62| null|\n",
      "|2020-06-06 04:31:23|R_UtgzI4lZXXLGqHv|sustainability_63| null|\n",
      "|2020-06-06 04:31:23|R_UtgzI4lZXXLGqHv|sustainability_64|    1|\n",
      "|2020-06-06 04:31:23|R_UtgzI4lZXXLGqHv|sustainability_65| null|\n",
      "|2020-06-06 04:31:23|R_UtgzI4lZXXLGqHv|sustainability_66| null|\n",
      "|2020-06-06 04:31:23|R_UtgzI4lZXXLGqHv|sustainability_67| null|\n",
      "|2020-06-06 04:31:23|R_UtgzI4lZXXLGqHv|sustainability_70| null|\n",
      "|2020-06-06 04:31:23|R_UtgzI4lZXXLGqHv|sustainability_71| null|\n",
      "|2020-06-06 04:31:23|R_UtgzI4lZXXLGqHv|sustainability_72| null|\n",
      "|2020-06-06 04:31:23|R_UtgzI4lZXXLGqHv|sustainability_73|    1|\n",
      "|2020-06-06 04:31:23|R_UtgzI4lZXXLGqHv|sustainability_74| null|\n",
      "|2020-06-06 04:31:23|R_UtgzI4lZXXLGqHv|sustainability_75| null|\n",
      "|2020-06-06 04:31:23|R_UtgzI4lZXXLGqHv|sustainability_76| null|\n",
      "+-------------------+-----------------+-----------------+-----+\n",
      "only showing top 20 rows\n",
      "\n"
     ]
    },
    {
     "data": {
      "text/plain": [
       "csv1DF = [EndDate: string, ResponseId: string ... 2 more fields]\n"
      ]
     },
     "metadata": {},
     "output_type": "display_data"
    },
    {
     "data": {
      "text/plain": [
       "[EndDate: string, ResponseId: string ... 2 more fields]"
      ]
     },
     "execution_count": 20,
     "metadata": {},
     "output_type": "execute_result"
    }
   ],
   "source": [
    "var csv1DF=\n",
    "Ques.foldLeft(needdf)((df,q)=>{\n",
    "    df.withColumn(q,concat(lit(q+\":\"),col(q)))\n",
    "})\n",
    ".select(col(\"EndDate\"), col(\"ResponseId\"), concat_ws(\",\", Ques.map(name => col(name)): _*).as(\"Value\"))\n",
    ".select(col(\"EndDate\"), col(\"ResponseId\"), explode(split(col(\"Value\"),\",\")).as(\"Value\"))\n",
    ".withColumn(\"splitcol\",split(col(\"Value\"), \":\"))\n",
    ".select(col(\"EndDate\"), col(\"ResponseId\"),\n",
    "        col(\"splitcol\").getItem(0).as(\"Question\"),\n",
    "        col(\"splitcol\").getItem(1).as(\"Value\"))\n",
    ".drop(\"splitcol\")\n",
    "csv1DF.show"
   ]
  },
  {
   "cell_type": "code",
   "execution_count": 21,
   "id": "28b5045f",
   "metadata": {},
   "outputs": [
    {
     "data": {
      "text/plain": [
       "finalDF = [ResponseId: string, EndDate: string ... 3 more fields]\n"
      ]
     },
     "metadata": {},
     "output_type": "display_data"
    },
    {
     "data": {
      "text/plain": [
       "[ResponseId: string, EndDate: string ... 3 more fields]"
      ]
     },
     "execution_count": 21,
     "metadata": {},
     "output_type": "execute_result"
    }
   ],
   "source": [
    "var finalDF = csv1DF.join(csv2DF, Seq(\"Question\"), \"left_outer\").drop(\"Question\").select(\"ResponseId\", \"EndDate\", \"Brand\", \"Attribute\", \"Value\")"
   ]
  },
  {
   "cell_type": "code",
   "execution_count": 22,
   "id": "e3463417",
   "metadata": {},
   "outputs": [
    {
     "data": {
      "text/plain": [
       "31824"
      ]
     },
     "execution_count": 22,
     "metadata": {},
     "output_type": "execute_result"
    }
   ],
   "source": [
    "finalDF.count"
   ]
  }
 ],
 "metadata": {
  "kernelspec": {
   "display_name": "Apache Toree - Scala",
   "language": "scala",
   "name": "apache_toree_scala"
  },
  "language_info": {
   "codemirror_mode": "text/x-scala",
   "file_extension": ".scala",
   "mimetype": "text/x-scala",
   "name": "scala",
   "pygments_lexer": "scala",
   "version": "2.11.12"
  }
 },
 "nbformat": 4,
 "nbformat_minor": 5
}
