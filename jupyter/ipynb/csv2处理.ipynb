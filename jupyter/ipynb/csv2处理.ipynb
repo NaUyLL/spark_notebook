{
 "cells": [
  {
   "cell_type": "code",
   "execution_count": 1,
   "metadata": {},
   "outputs": [],
   "source": [
    "import org.apache.spark.{SparkConf, SparkContext}\n",
    "import org.apache.spark.sql.SparkSession"
   ]
  },
  {
   "cell_type": "code",
   "execution_count": 2,
   "metadata": {},
   "outputs": [
    {
     "data": {
      "text/plain": [
       "conf = org.apache.spark.SparkConf@5eb03872\n"
      ]
     },
     "metadata": {},
     "output_type": "display_data"
    },
    {
     "data": {
      "text/plain": [
       "org.apache.spark.SparkConf@5eb03872"
      ]
     },
     "execution_count": 2,
     "metadata": {},
     "output_type": "execute_result"
    }
   ],
   "source": [
    "val conf=new SparkConf()\n",
    "      .setMaster(\"local\")//启动本地化计算\n",
    "      .setAppName(\"testRdd\")//设置本程序名称"
   ]
  },
  {
   "cell_type": "code",
   "execution_count": 3,
   "metadata": {},
   "outputs": [
    {
     "data": {
      "text/plain": [
       "sc = org.apache.spark.SparkContext@2561ac6a\n",
       "spark = org.apache.spark.sql.SparkSession@116f3cf4\n"
      ]
     },
     "metadata": {},
     "output_type": "display_data"
    },
    {
     "data": {
      "text/plain": [
       "org.apache.spark.sql.SparkSession@116f3cf4"
      ]
     },
     "execution_count": 3,
     "metadata": {},
     "output_type": "execute_result"
    },
    {
     "name": "stdout",
     "output_type": "stream",
     "text": [
      "is a leader in sustainability\n",
      "offers relevant solutions based on real needs\n",
      "is stylish\n",
      "is premium\n",
      "is a leader in innovation\n",
      "is a brand with status\n",
      "has products with modern design\n",
      "offers environmentally-responsible products\n",
      "offers durable and reliable products\n",
      "offers high-quality products\n",
      "is easy to use\n",
      "offers good value for money\n",
      "is family focused\n",
      "simplifies my home life\n",
      "is a clever brand\n",
      "is a brand I trust\n",
      "is a brand I love\n",
      "[is a leader in sustainability]\n",
      "[offers relevant solutions based on real needs]\n",
      "[is stylish]\n",
      "[is premium]\n",
      "[is a leader in innovation]\n",
      "[is a brand with status]\n",
      "[has products with modern design]\n",
      "[offers environmentally-responsible products]\n",
      "[offers durable and reliable products]\n",
      "[offers high-quality products]\n",
      "[is easy to use]\n",
      "[offers good value for money]\n",
      "[is family focused]\n",
      "[simplifies my home life]\n",
      "[is a clever brand]\n",
      "[is a brand I trust]\n",
      "[is a brand I love]\n",
      "[is a leader in sustainability]\n",
      "[offers relevant solutions based on real needs]\n",
      "[is stylish]\n",
      "[is premium]\n",
      "[is a leader in innovation]\n",
      "[is a brand with status]\n",
      "[has products with modern design]\n",
      "[offers environmentally-responsible products]\n",
      "[offers durable and reliable products]\n",
      "[offers high-quality products]\n",
      "[is easy to use]\n",
      "[offers good value for money]\n",
      "[is family focused]\n",
      "[simplifies my home life]\n",
      "[is a clever brand]\n",
      "[is a brand I trust]\n",
      "[is a brand I love]\n",
      "[is a leader in sustainability]\n",
      "[offers relevant solutions based on real needs]\n",
      "[is stylish]\n",
      "[is premium]\n",
      "[is a leader in innovation]\n",
      "[is a brand with status]\n",
      "[has products with modern design]\n",
      "[offers environmentally-responsible products]\n",
      "[offers durable and reliable products]\n",
      "[offers high-quality products]\n",
      "[is easy to use]\n",
      "[offers good value for money]\n",
      "[is family focused]\n",
      "[simplifies my home life]\n",
      "[is a clever brand]\n",
      "[is a brand I trust]\n",
      "[is a brand I love]\n",
      "is a leader in sustainability\n",
      "offers relevant solutions based on real needs\n",
      "is stylish\n",
      "is premium\n",
      "is a leader in innovation\n",
      "is a brand with status\n",
      "has products with modern design\n",
      "offers environmentally-responsible products\n",
      "offers durable and reliable products\n",
      "offers high-quality products\n",
      "is easy to use\n",
      "offers good value for money\n",
      "is family focused\n",
      "simplifies my home life\n",
      "is a clever brand\n",
      "is a brand I trust\n",
      "is a brand I love\n",
      "[is a leader in sustainability]\n",
      "[offers relevant solutions based on real needs]\n",
      "[is stylish]\n",
      "[is premium]\n",
      "[is a leader in innovation]\n",
      "[is a brand with status]\n",
      "[has products with modern design]\n",
      "[offers environmentally-responsible products]\n",
      "[offers durable and reliable products]\n",
      "[offers high-quality products]\n",
      "[is easy to use]\n",
      "[offers good value for money]\n",
      "[is family focused]\n",
      "[simplifies my home life]\n",
      "[is a clever brand]\n",
      "[is a brand I trust]\n",
      "[is a brand I love]\n",
      "[is a leader in sustainability]\n",
      "[offers relevant solutions based on real needs]\n",
      "[is stylish]\n",
      "[is premium]\n",
      "[is a leader in innovation]\n",
      "[is a brand with status]\n",
      "[has products with modern design]\n",
      "[offers environmentally-responsible products]\n",
      "[offers durable and reliable products]\n",
      "[offers high-quality products]\n",
      "[is easy to use]\n",
      "[offers good value for money]\n",
      "[is family focused]\n",
      "[simplifies my home life]\n",
      "[is a clever brand]\n",
      "[is a brand I trust]\n",
      "[is a brand I love]\n",
      "is a leader in sustainability\n",
      "offers relevant solutions based on real needs\n",
      "is stylish\n",
      "is premium\n",
      "is a leader in innovation\n",
      "is a brand with status\n",
      "has products with modern design\n",
      "offers environmentally-responsible products\n",
      "offers durable and reliable products\n",
      "offers high-quality products\n",
      "is easy to use\n",
      "offers good value for money\n",
      "is family focused\n",
      "simplifies my home life\n",
      "is a clever brand\n",
      "is a brand I trust\n",
      "is a brand I love\n"
     ]
    }
   ],
   "source": [
    "val sc=new SparkContext(conf)\n",
    "val spark = SparkSession.builder().appName(\"json_app\").getOrCreate()"
   ]
  },
  {
   "cell_type": "code",
   "execution_count": 5,
   "metadata": {},
   "outputs": [
    {
     "data": {
      "text/plain": [
       "csv1 = [StartDate: string, EndDate: string ... 3244 more fields]\n",
       "csv2 = [Attribute: string, Electrolux: string ... 51 more fields]\n"
      ]
     },
     "metadata": {},
     "output_type": "display_data"
    },
    {
     "data": {
      "text/plain": [
       "lastException: Throwable = null\n"
      ]
     },
     "metadata": {},
     "output_type": "display_data"
    },
    {
     "data": {
      "text/plain": [
       "[Attribute: string, Electrolux: string ... 51 more fields]"
      ]
     },
     "execution_count": 5,
     "metadata": {},
     "output_type": "execute_result"
    }
   ],
   "source": [
    "val csv1=spark.read.option(\"header\", \"true\").csv(\"../data/input.csv\")//读取本地文件\n",
    "val csv2=spark.read.option(\"header\", \"true\").csv(\"../data/attribute_mapping.csv\")"
   ]
  },
  {
   "cell_type": "code",
   "execution_count": 93,
   "metadata": {},
   "outputs": [
    {
     "data": {
      "text/plain": [
       "attri_list = Array([is a leader in sustainability], [offers relevant solutions based on real needs], [is stylish], [is premium], [is a leader in innovation], [is a brand with status], [has products with modern design], [offers environmentally-responsible products], [offers durable and reliable products], [offers high-quality products], [is easy to use], [offers good value for money], [is family focused], [simplifies my home life], [is a clever brand], [is a brand I trust], [is a brand I love])\n",
       "attri_rdd = ParallelCollectionRDD[123] at parallelize at <console>:36\n"
      ]
     },
     "metadata": {},
     "output_type": "display_data"
    },
    {
     "data": {
      "text/plain": [
       "is a leader in sustainability"
      ]
     },
     "execution_count": 93,
     "metadata": {},
     "output_type": "execute_result"
    }
   ],
   "source": [
    "val attri_list = csv2.select(\"Attribute\").collect()\n",
    "\n",
    "val attri_rdd = sc.parallelize(attri_list)\n",
    "attri_rdd.map(x=>x(0)).first()\n",
    "//attrt_list.map(x->x(0)).foreach(println)"
   ]
  },
  {
   "cell_type": "code",
   "execution_count": 77,
   "metadata": {},
   "outputs": [
    {
     "name": "stdout",
     "output_type": "stream",
     "text": [
      "class [Ljava.lang.String;\n",
      "Electrolux\n",
      "AEG\n",
      "Westinghouse\n",
      "Zanussi\n",
      "Simpson\n",
      "Haier\n",
      "Asko\n",
      "Smeg\n",
      "LG\n",
      "Samsung\n",
      "Fisher & Paykel\n",
      "Bosch\n",
      "Miele\n",
      "Hisense\n",
      "Kelvinator\n",
      "Panasonic\n",
      "Sharp\n",
      "Toshiba\n",
      "Hitachi\n",
      "Daikin\n",
      "Elba\n",
      "Aqua\n",
      "Teka\n",
      "Midea\n",
      "Beko\n",
      "Rinnai\n",
      "Fotile\n",
      "Mitsubishi\n",
      "Modena\n",
      "Tecnogas\n",
      "Ariston\n",
      "Polytron\n",
      "Sanken\n",
      "White-Westinghouse\n",
      "Fujidenzo\n",
      "La Germania\n",
      "Whirlpool\n",
      "Defy\n",
      "Siemens\n",
      "KIC\n",
      "Olympic Electric\n",
      "Fresh\n",
      "Kiriazi\n",
      "White Point\n",
      "Arthur Martin\n",
      "Franke\n",
      "Bauknecht\n",
      "Sauter\n",
      "Tornado\n",
      "Gibson\n",
      "Maytag\n",
      "Indesit\n"
     ]
    },
    {
     "data": {
      "text/plain": [
       "col = Array(Attribute, Electrolux, AEG, Westinghouse, Zanussi, Simpson, Haier, Asko, Smeg, LG, Samsung, Fisher & Paykel, Bosch, Miele, Hisense, Kelvinator, Panasonic, Sharp, Toshiba, Hitachi, Daikin, Elba, Aqua, Teka, Midea, Beko, Rinnai, Fotile, Mitsubishi, Modena, Tecnogas, Ariston, Polytron, Sanken, White-Westinghouse, Fujidenzo, La Germania, Whirlpool, Defy, Siemens, KIC, Olympic Electric, Fresh, Kiriazi, White Point, Arthur Martin, Franke, Bauknecht, Sauter, Tornado, Gibson, Maytag, Indesit)\n",
       "brand = Array(Electrolux, AEG, Westinghouse, Zanussi, Simpson, Haier, Asko, Smeg, LG, Samsung, Fisher & Paykel, Bosch, Miele, Hisense, Kelvinator, Panasonic, Sharp, Toshiba, Hitachi, Daikin, Elba, Aqua, Teka, Midea, Beko, Rinnai, Fotile, Mitsubishi, Modena, Tecnoga...\n"
      ]
     },
     "metadata": {},
     "output_type": "display_data"
    },
    {
     "data": {
      "text/plain": [
       "lastException: Throwable = null\n"
      ]
     },
     "metadata": {},
     "output_type": "display_data"
    },
    {
     "data": {
      "text/plain": [
       "Array(Electrolux, AEG, Westinghouse, Zanussi, Simpson, Haier, Asko, Smeg, LG, Samsung, Fisher & Paykel, Bosch, Miele, Hisense, Kelvinator, Panasonic, Sharp, Toshiba, Hitachi, Daikin, Elba, Aqua, Teka, Midea, Beko, Rinnai, Fotile, Mitsubishi, Modena, Tecnoga..."
      ]
     },
     "execution_count": 77,
     "metadata": {},
     "output_type": "execute_result"
    }
   ],
   "source": [
    "val col = csv2.columns\n",
    "println(col.getClass)\n",
    "val brand = col.filter(!_.contains(\"Attribute\"))\n",
    "for(b<-brand)println(b) "
   ]
  },
  {
   "cell_type": "code",
   "execution_count": 139,
   "metadata": {},
   "outputs": [
    {
     "name": "stdout",
     "output_type": "stream",
     "text": [
      "Electrolux\n"
     ]
    },
    {
     "data": {
      "text/plain": [
       "test = [Attribute: string, Question: string ... 1 more field]\n"
      ]
     },
     "metadata": {},
     "output_type": "display_data"
    },
    {
     "data": {
      "text/plain": [
       "[Attribute: string, Question: string ... 1 more field]"
      ]
     },
     "execution_count": 139,
     "metadata": {},
     "output_type": "execute_result"
    }
   ],
   "source": [
    "import org.apache.spark.sql.functions.lit\n",
    "println(brand(0))\n",
    "val test = csv2.select(\"Attribute\",brand(0)).toDF(\"Attribute\", \"Question\").withColumn(\"Brand\", lit(brand(0)))"
   ]
  },
  {
   "cell_type": "code",
   "execution_count": 132,
   "metadata": {},
   "outputs": [],
   "source": [
    "test.union"
   ]
  },
  {
   "cell_type": "code",
   "execution_count": 133,
   "metadata": {},
   "outputs": [
    {
     "name": "stdout",
     "output_type": "stream",
     "text": [
      "52\n"
     ]
    }
   ],
   "source": [
    "println(brand.length)"
   ]
  },
  {
   "cell_type": "code",
   "execution_count": 195,
   "metadata": {},
   "outputs": [
    {
     "data": {
      "text/plain": [
       "newDF = [Attribute: string, Question: string ... 1 more field]\n"
      ]
     },
     "metadata": {},
     "output_type": "display_data"
    },
    {
     "data": {
      "text/plain": [
       "[Attribute: string, Question: string ... 1 more field]"
      ]
     },
     "execution_count": 195,
     "metadata": {},
     "output_type": "execute_result"
    }
   ],
   "source": [
    "var newDF = csv2.select(\"Attribute\",brand(0)).toDF(\"Attribute\", \"Question\").withColumn(\"Brand\", lit(brand(0)))\n"
   ]
  },
  {
   "cell_type": "code",
   "execution_count": 196,
   "metadata": {},
   "outputs": [
    {
     "name": "stdout",
     "output_type": "stream",
     "text": [
      "+--------------------+-------------------+----------+\n",
      "|           Attribute|           Question|     Brand|\n",
      "+--------------------+-------------------+----------+\n",
      "|is a leader in su...|  sustainability_57|Electrolux|\n",
      "|offers relevant s...|human-centricity_57|Electrolux|\n",
      "|          is stylish|           style_57|Electrolux|\n",
      "|          is premium|     premiumness_57|Electrolux|\n",
      "|is a leader in in...|      innovation_57|Electrolux|\n",
      "|is a brand with s...|          status_57|Electrolux|\n",
      "|has products with...|       modernity_57|Electrolux|\n",
      "|offers environmen...|eco-friendliness_57|Electrolux|\n",
      "|offers durable an...|     reliability_57|Electrolux|\n",
      "|offers high-quali...|         quality_57|Electrolux|\n",
      "|      is easy to use|   intuitiveness_57|Electrolux|\n",
      "|offers good value...| value-for-money_57|Electrolux|\n",
      "|   is family focused|    family-focus_57|Electrolux|\n",
      "|simplifies my hom...|          simple_57|Electrolux|\n",
      "|   is a clever brand|          clever_57|Electrolux|\n",
      "|  is a brand I trust|           trust_57|Electrolux|\n",
      "|   is a brand I love|            love_57|Electrolux|\n",
      "+--------------------+-------------------+----------+\n",
      "\n"
     ]
    }
   ],
   "source": [
    "newDF.show()"
   ]
  },
  {
   "cell_type": "code",
   "execution_count": 197,
   "metadata": {},
   "outputs": [],
   "source": [
    "for(i<-(1 until brand.length)){\n",
    "    var seDF = csv2.select(\"Attribute\",brand(i)).toDF(\"Attribute\", \"Question\").withColumn(\"Brand\", lit(brand(i)))\n",
    "    newDF = newDF.union(seDF)\n",
    "}"
   ]
  },
  {
   "cell_type": "code",
   "execution_count": 199,
   "metadata": {},
   "outputs": [
    {
     "name": "stdout",
     "output_type": "stream",
     "text": [
      "+--------------------+-------------------+------------+\n",
      "|           Attribute|           Question|       Brand|\n",
      "+--------------------+-------------------+------------+\n",
      "|is a leader in su...|  sustainability_57|  Electrolux|\n",
      "|offers relevant s...|human-centricity_57|  Electrolux|\n",
      "|          is stylish|           style_57|  Electrolux|\n",
      "|          is premium|     premiumness_57|  Electrolux|\n",
      "|is a leader in in...|      innovation_57|  Electrolux|\n",
      "|is a brand with s...|          status_57|  Electrolux|\n",
      "|has products with...|       modernity_57|  Electrolux|\n",
      "|offers environmen...|eco-friendliness_57|  Electrolux|\n",
      "|offers durable an...|     reliability_57|  Electrolux|\n",
      "|offers high-quali...|         quality_57|  Electrolux|\n",
      "|      is easy to use|   intuitiveness_57|  Electrolux|\n",
      "|offers good value...| value-for-money_57|  Electrolux|\n",
      "|   is family focused|    family-focus_57|  Electrolux|\n",
      "|simplifies my hom...|          simple_57|  Electrolux|\n",
      "|   is a clever brand|          clever_57|  Electrolux|\n",
      "|  is a brand I trust|           trust_57|  Electrolux|\n",
      "|   is a brand I love|            love_57|  Electrolux|\n",
      "|is a leader in su...|  sustainability_58|         AEG|\n",
      "|offers relevant s...|human-centricity_58|         AEG|\n",
      "|          is stylish|           style_58|         AEG|\n",
      "|          is premium|     premiumness_58|         AEG|\n",
      "|is a leader in in...|      innovation_58|         AEG|\n",
      "|is a brand with s...|          status_58|         AEG|\n",
      "|has products with...|       modernity_58|         AEG|\n",
      "|offers environmen...|eco-friendliness_58|         AEG|\n",
      "|offers durable an...|     reliability_58|         AEG|\n",
      "|offers high-quali...|         quality_58|         AEG|\n",
      "|      is easy to use|   intuitiveness_58|         AEG|\n",
      "|offers good value...| value-for-money_58|         AEG|\n",
      "|   is family focused|    family-focus_58|         AEG|\n",
      "|simplifies my hom...|          simple_58|         AEG|\n",
      "|   is a clever brand|          clever_58|         AEG|\n",
      "|  is a brand I trust|           trust_58|         AEG|\n",
      "|   is a brand I love|            love_58|         AEG|\n",
      "|is a leader in su...|  sustainability_59|Westinghouse|\n",
      "|offers relevant s...|human-centricity_59|Westinghouse|\n",
      "|          is stylish|           style_59|Westinghouse|\n",
      "|          is premium|     premiumness_59|Westinghouse|\n",
      "|is a leader in in...|      innovation_59|Westinghouse|\n",
      "|is a brand with s...|          status_59|Westinghouse|\n",
      "|has products with...|       modernity_59|Westinghouse|\n",
      "|offers environmen...|eco-friendliness_59|Westinghouse|\n",
      "|offers durable an...|     reliability_59|Westinghouse|\n",
      "|offers high-quali...|         quality_59|Westinghouse|\n",
      "|      is easy to use|   intuitiveness_59|Westinghouse|\n",
      "|offers good value...| value-for-money_59|Westinghouse|\n",
      "|   is family focused|    family-focus_59|Westinghouse|\n",
      "|simplifies my hom...|          simple_59|Westinghouse|\n",
      "|   is a clever brand|          clever_59|Westinghouse|\n",
      "|  is a brand I trust|           trust_59|Westinghouse|\n",
      "+--------------------+-------------------+------------+\n",
      "only showing top 50 rows\n",
      "\n"
     ]
    }
   ],
   "source": [
    "newDF.show(50)"
   ]
  },
  {
   "cell_type": "code",
   "execution_count": null,
   "metadata": {},
   "outputs": [],
   "source": []
  }
 ],
 "metadata": {
  "kernelspec": {
   "display_name": "Apache Toree - Scala",
   "language": "scala",
   "name": "apache_toree_scala"
  },
  "language_info": {
   "codemirror_mode": "text/x-scala",
   "file_extension": ".scala",
   "mimetype": "text/x-scala",
   "name": "scala",
   "pygments_lexer": "scala",
   "version": "2.11.12"
  }
 },
 "nbformat": 4,
 "nbformat_minor": 4
}
